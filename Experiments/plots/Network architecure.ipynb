{
 "cells": [
  {
   "cell_type": "code",
   "execution_count": 7,
   "metadata": {},
   "outputs": [],
   "source": [
    "from plotting_utils import *\n",
    "import matplotlib.pyplot as plt\n",
    "from cycler import cycler\n",
    "plt.style.use('ggplot')\n",
    "\n",
    "# plt.rcParams['font.family'] = 'serif'\n",
    "# plt.rcParams['font.serif'] = 'Ubuntu'\n",
    "# plt.rcParams['font.monospace'] = 'Ubuntu Mono'\n",
    "plt.rcParams['font.size'] = 10\n",
    "plt.rcParams['axes.labelsize'] = 10\n",
    "plt.rcParams['axes.labelweight'] = 'normal'\n",
    "plt.rcParams['axes.titlesize'] = 10\n",
    "plt.rcParams['xtick.labelsize'] = 10\n",
    "plt.rcParams['ytick.labelsize'] = 10\n",
    "plt.rcParams['legend.fontsize'] = 8\n",
    "#plt.rcParams['figure.titlesize'] = 15\n",
    "#plt.rcParams['figure.titleweight'] = 'bold'\n",
    "\n",
    "#plt.rc('lines', linewidth=4)\n",
    "#plt.rc('axes', prop_cycle=(cycler(color=['r', 'g', 'b', 'y']) +\n",
    "#                           cycler(linestyle=['-', '--', ':', '-.'])))\n",
    "plt.rc('axes', prop_cycle=(cycler(color=['red', 'green', 'blue', 'yellow','cyan', 'magenta',\\\n",
    "                                         'black', 'orange', 'maroon', 'lime', 'aqua', \\\n",
    "                                         'indigo', 'darkviolet', 'dimgray', 'deeppink'])))\n",
    "\n",
    "\n",
    "def plot2(ax, data, field, plot_term, params, smooth = None):\n",
    "    '''data is already in filtered form\n",
    "    data: {name:list of data_points} '''\n",
    "    def last(a):\n",
    "        return a[-1]\n",
    "\n",
    "    colours = ['red', 'green', 'blue', 'yellow','cyan', 'magenta',\\\n",
    "                'black', 'orange', 'maroon', 'lime', 'aqua', \\\n",
    "                'indigo', 'darkviolet', 'dimgray', 'deeppink']\n",
    "\n",
    "    all_plots = []\n",
    "   # all_points = {}\n",
    "    lookup = set()\n",
    "    exclude_last_points = 1\n",
    "    this_cmap = {}\n",
    "    c_cpy = colours[:]\n",
    "    c_taken = params[\"cmap\"].values()\n",
    "    for c in c_taken:\n",
    "        if c in c_cpy:\n",
    "            c_cpy.remove(c)\n",
    "    for i,(k, v) in enumerate(data.items()):\n",
    "        if plot_term in k:\n",
    "            exp_id = k.split(\"_\")\n",
    "            ind = exp_id.index(plot_term)\n",
    "            plot_term_value = exp_id[ind+1]\n",
    "            if not plot_term_value in lookup:\n",
    "                lookup.add(plot_term_value)\n",
    "                label = params[\"aliasplotterm\"] + ' = ' + plot_term_value\n",
    "                if not smooth is None:\n",
    "                    new_data = moving_average_filter(v[field], smooth)\n",
    "                    exclude_last_points = smooth + 1\n",
    "                else:\n",
    "                    new_data = v[field][:]\n",
    "                x = np.arange(len(new_data))\n",
    "                \n",
    "                if label in params[\"cmap\"]:\n",
    "                    c_hldr = params[\"cmap\"][label]\n",
    "                else:\n",
    "                    c_hldr = c_cpy[0]\n",
    "                    del c_cpy[0]\n",
    "                this_cmap[label] = c_hldr\n",
    "                #all_points[label] = (x, new_data, float(plot_term_value))\n",
    "                handle = ax.plot(x[7:-exclude_last_points], new_data[7:-exclude_last_points], label = label, color = c_hldr)[0]\n",
    "                all_plots.append((handle,label, float(plot_term_value)))\n",
    "\n",
    "\n",
    "  #  all_points = {k: v for k, v in sorted(all_points.items(), key=lambda item: item[1][2], reverse = True)}\n",
    "\n",
    "    handles, labels = ax.get_legend_handles_labels()\n",
    "    label_id = [float(l.split(\" = \")[-1]) for l in labels]\n",
    "    all_plots = [tuple(i) for i in zip(handles, labels, label_id)]\n",
    "   # all_plots.sort(key = last, reverse=True)\n",
    "\n",
    "\n",
    "   # print(handles, labels)\n",
    "\n",
    "    ax.set_xlabel(params[\"xlabel\"], fontsize = params[\"xlabelsize\"])  # Add an x-label to the axes.\n",
    "    ax.set_ylabel(params[\"ylabel\"], fontsize = params[\"ylabelsize\"])  # Add a y-label to the axes.\n",
    "    ax.set_title(params[\"title\"], fontsize = params[\"titlesize\"])  # Add a title to the axes.\n",
    "\n",
    "  #  handles = [p[0] for p in all_plots]\n",
    "   # lbls = [p[1] for p in all_plots]\n",
    "    h,l,_ = zip(*all_plots)\n",
    "    return h, l, this_cmap\n",
    "    #ax.legend(h, l)  # Add a legend."
   ]
  },
  {
   "cell_type": "code",
   "execution_count": 8,
   "metadata": {},
   "outputs": [],
   "source": [
    "def plot4(ax, data,field, plts, params, smooth = None):\n",
    "    ''' Plots the key-label pairs in plt where the key is a data item (single plot)'''\n",
    "    colours = ['red', 'green', 'blue', 'yellow','cyan', 'magenta',\\\n",
    "                'black', 'orange', 'maroon', 'lime', 'aqua', \\\n",
    "                'indigo', 'darkviolet', 'dimgray', 'deeppink']\n",
    "   # all_plots = []\n",
    "    \n",
    "    this_cmap = {}\n",
    "    c_cpy = colours[:]\n",
    "    c_taken = params[\"cmap\"].values()\n",
    "    for c in c_taken:\n",
    "        if c in c_cpy:\n",
    "            c_cpy.remove(c)\n",
    "    \n",
    "    for plt_key, plt_label in plts.items():\n",
    "        assert plt_key in data\n",
    "        #Data:\n",
    "        d = data[plt_key]\n",
    "        if not smooth is None:\n",
    "            smooth_data = moving_average_filter(d[field], smooth)\n",
    "            exclude_last_points = smooth + 1\n",
    "        else:\n",
    "            smooth_data = d[field]\n",
    "            exclude_last_points = 1\n",
    "        x = np.arange(len(smooth_data))\n",
    "        #Colours:\n",
    "        if plt_label in params[\"cmap\"]:\n",
    "            c_hldr = params[\"cmap\"][plt_label]\n",
    "        else:\n",
    "            c_hldr = c_cpy[0]\n",
    "            del c_cpy[0]\n",
    "        this_cmap[plt_label] = c_hldr\n",
    "        #Plot:\n",
    "        handle = ax.plot(x[7:-exclude_last_points], smooth_data[7:-exclude_last_points], label = plt_label, color = c_hldr)[0]\n",
    "      #  all_plots.append((handle,label, float(plot_term_value)))\n",
    "        \n",
    "        \n",
    "    handles, labels = ax.get_legend_handles_labels()\n",
    "    \n",
    "    ax.set_xlabel(params[\"xlabel\"], fontsize = params[\"xlabelsize\"])  # Add an x-label to the axes.\n",
    "    ax.set_ylabel(params[\"ylabel\"], fontsize = params[\"ylabelsize\"])  # Add a y-label to the axes.\n",
    "    ax.set_title(params[\"title\"], fontsize = params[\"titlesize\"])  # Add a title to the axes.\n",
    "    \n",
    "    return handles, labels, this_cmap"
   ]
  },
  {
   "cell_type": "code",
   "execution_count": 54,
   "metadata": {},
   "outputs": [],
   "source": [
    "from tabulate import tabulate\n",
    "def get_mean_std(data, last_data, field, keys_alias_dict = None, print_ = True):\n",
    "    '''Returns a table of mean std of data.\n",
    "    keys_alias_dict can specify the keys in data to be\n",
    "    plotted. The value item can specify an alias term, or\n",
    "    be none to use the key as data label.'''\n",
    "    csv_records = []\n",
    "    #sep = \",\"\n",
    "    #end_char = \"\\n\"\n",
    "    table = []\n",
    "    hdrs = [\"Item\", \"Mean\", \"Std\"]\n",
    "    if keys_alias_dict is None:\n",
    "        for k,v in data.items():\n",
    "            new_d = np.array(v[-last_data:])\n",
    "            m = new_d.mean()\n",
    "            std = new_d.std()\n",
    "            hldr = [k,m,std]\n",
    "            table.append(hldr)\n",
    "            csv_records.append([m,std])\n",
    "    else:\n",
    "        for k, ak in keys_alias_dict.items():\n",
    "            new_d = np.array(data[k][field][-last_data:])\n",
    "            m = new_d.mean()\n",
    "            std = new_d.std()\n",
    "            if ak is None:\n",
    "                ak = k\n",
    "            hldr = [ak,m,std]\n",
    "            table.append(hldr)\n",
    "            csv_records.append(hldr)\n",
    "\n",
    "    if print_:\n",
    "        print(tabulate(table, headers = hdrs))\n",
    "    return csv_records\n",
    "        \n",
    "            \n",
    "    "
   ]
  },
  {
   "cell_type": "code",
   "execution_count": 10,
   "metadata": {},
   "outputs": [
    {
     "name": "stdout",
     "output_type": "stream",
     "text": [
      "WARNING:tensorflow:From /home/james/anaconda3/envs/gridworld/lib/python3.7/site-packages/tensorflow/python/summary/summary_iterator.py:68: tf_record_iterator (from tensorflow.python.lib.io.tf_record) is deprecated and will be removed in a future version.\n",
      "Instructions for updating:\n",
      "Use eager execution and: \n",
      "`tf.data.TFRecordDataset(path)`\n"
     ]
    }
   ],
   "source": [
    "source = '/home/james/Desktop/Gridworld/CENTRAL_TENSORBOARD/Ic3_1E'\n",
    "all_data = get_event_data(source)"
   ]
  },
  {
   "cell_type": "code",
   "execution_count": 11,
   "metadata": {},
   "outputs": [],
   "source": [
    "plts = {}\n",
    "labels = [\"No Communication\", \"CommNet\", \"IC3Net\"]\n",
    "plts['IC3_disc_0.9_entropy_0.01_minibatch_500_commpasses_1_commzero_False_commNet_True_recurrent_False_envsize_5_nagents_4_objdensity_0.2_seed_1'] = \"CommNet\"\n",
    "plts['IC3_disc_0.9_entropy_0.01_minibatch_500_commpasses_1_commzero_True_commNet_False_recurrent_False_envsize_5_nagents_4_objdensity_0.2_seed_1'] = \"No Communication\""
   ]
  },
  {
   "cell_type": "code",
   "execution_count": 22,
   "metadata": {},
   "outputs": [
    {
     "name": "stdout",
     "output_type": "stream",
     "text": [
      "Item                 Mean      Std\n",
      "----------------  -------  -------\n",
      "CommNet           6.7015   2.71379\n",
      "No Communication  6.86972  2.61161\n"
     ]
    }
   ],
   "source": [
    "get_mean_std(all_data, 800,\"total_agent_collisions\", plts)"
   ]
  },
  {
   "cell_type": "code",
   "execution_count": 53,
   "metadata": {},
   "outputs": [
    {
     "name": "stdout",
     "output_type": "stream",
     "text": [
      "1.2\n"
     ]
    }
   ],
   "source": [
    "a = 1.2489\n",
    "print(np.round(a, 1))"
   ]
  },
  {
   "cell_type": "code",
   "execution_count": 26,
   "metadata": {},
   "outputs": [],
   "source": [
    "def make_aliases(keys, plt_term):\n",
    "    aliases = {}\n",
    "    for k in keys:\n",
    "        split = k.split(\"_\")\n",
    "        ind = split.index(plt_term)\n",
    "        aliases[k] = split[ind+1]\n",
    "    return aliases\n",
    "        \n",
    "        "
   ]
  },
  {
   "cell_type": "code",
   "execution_count": 64,
   "metadata": {},
   "outputs": [],
   "source": [
    "def make_csv(table_dict, name):\n",
    "    ''' table_dict contains {header: [row_label, mean, std]}'''\n",
    "    sep = \",\"\n",
    "    line_end = \"\\n\"\n",
    "    rows = {}\n",
    "    header = \"Architecture\"\n",
    "    for k,v in table_dict.items():\n",
    "        header += sep + k\n",
    "        for r in v:\n",
    "            m = str(np.round(r[1], 2))\n",
    "            std = str(np.round(r[2],1))\n",
    "            if not r[0] in rows:\n",
    "                rows[r[0]] = r[0]\n",
    "            rows[r[0]] += sep + m + \"$\\pm$\" + std\n",
    "    csv_txt = header + line_end\n",
    "    for v in rows.values():\n",
    "        csv_txt += v + line_end\n",
    "    f = open(make_exist(name), 'w')\n",
    "    f.write(csv_txt)\n",
    "    f.close()\n",
    "    #print(csv_txt)\n",
    "        \n",
    "    \n",
    "            \n",
    "\n",
    "                \n",
    "        \n",
    "    "
   ]
  },
  {
   "cell_type": "markdown",
   "metadata": {},
   "source": [
    "# Architectures 10x10\n",
    "No data necessary, mlp learns nothing, cnn learns something but performs very poorly"
   ]
  },
  {
   "cell_type": "markdown",
   "metadata": {},
   "source": [
    "# Arc 7x7"
   ]
  },
  {
   "cell_type": "code",
   "execution_count": 55,
   "metadata": {},
   "outputs": [],
   "source": [
    "source = '/home/james/Desktop/Gridworld/CENTRAL_TENSORBOARD/3A'\n",
    "all_data = get_event_data(source, remove_duplicates = False)"
   ]
  },
  {
   "cell_type": "code",
   "execution_count": 62,
   "metadata": {},
   "outputs": [
    {
     "name": "stdout",
     "output_type": "stream",
     "text": [
      "\n",
      "\n",
      "total_steps\n",
      "Item        Mean       Std\n",
      "-------  -------  --------\n",
      "primal2  61.9032  10.2153\n",
      "mlp      66.6037   8.37039\n",
      "primal7  58.9815  10.4188\n",
      "primal3  71.3205   4.73592\n",
      "primal5  70.122    6.85766\n",
      "primal4  71.8518   4.6998\n",
      "total_agent_collisions\n",
      "Item         Mean      Std\n",
      "-------  --------  -------\n",
      "primal2   3.88781  2.8155\n",
      "mlp       5.57317  3.54595\n",
      "primal7   2.39571  1.67657\n",
      "primal3  11.4707   4.69766\n",
      "primal5  10.2668   6.40104\n",
      "primal4  11.5333   6.65031\n",
      "\n",
      "\n",
      "total_obstacle_collisions\n",
      "Item        Mean      Std\n",
      "-------  -------  -------\n",
      "primal2  15.4325  7.31493\n",
      "mlp      21.0845  8.3444\n",
      "primal7  10.2814  3.9802\n",
      "primal3  22.9875  6.63478\n",
      "primal5  23.1933  8.69923\n",
      "primal4  21.8732  7.27595\n"
     ]
    }
   ],
   "source": [
    "filter_terms = [\"envsize_7\"]\n",
    "f_data = filter(all_data, filter_terms)\n",
    "del f_data[\"1C_arc_primal5_disc_0.5_lambda_1.0_entropy_0.01_minibatch_512_rollouts_256_workers_4_kepochs_8_envsize_7_nagents_4_objdensity_0.2_seed_1_N1\"]\n",
    "del f_data[\"1C_arc_primal4_disc_0.5_lambda_1.0_entropy_0.01_minibatch_512_rollouts_256_workers_4_kepochs_8_envsize_7_nagents_4_objdensity_0.2_seed_1\"]\n",
    "del f_data[\"1C_arc_primal2_disc_0.5_lambda_1.0_entropy_0.01_minibatch_512_rollouts_256_workers_4_kepochs_8_envsize_7_nagents_4_objdensity_0.2_seed_1\"]\n",
    "\n",
    "alias = make_aliases(f_data.keys(), \"arc\")\n",
    "\n",
    "table_data = {}\n",
    "\n",
    "field = \"total_steps\"\n",
    "print(\"\\n\\n\" + field)\n",
    "table_data[field] = get_mean_std(f_data, 100,field, alias, True)\n",
    "\n",
    "field = \"total_agent_collisions\"\n",
    "print(field)\n",
    "table_data[field] = get_mean_std(f_data, 100,field, alias, True)\n",
    "\n",
    "\n",
    "field = \"total_obstacle_collisions\"\n",
    "print(\"\\n\\n\" + field)\n",
    "table_data[field] = get_mean_std(f_data, 100,field, alias, True)\n",
    "\n",
    "\n",
    "\n",
    "    "
   ]
  },
  {
   "cell_type": "code",
   "execution_count": 57,
   "metadata": {},
   "outputs": [
    {
     "name": "stdout",
     "output_type": "stream",
     "text": [
      "{'total_agent_collisions': [['primal2', 3.8878095272183417, 2.8154972512641416], ['mlp', 5.573166670203209, 3.545953011083558], ['primal7', 2.3957142904400826, 1.676569414738153], ['primal3', 11.47066665649414, 4.697659054612068], ['primal5', 10.266833329200745, 6.401043069260606], ['primal4', 11.533333335518837, 6.650305361448767]], 'total_obstacle_collisions': [['primal2', 15.43250001192093, 7.314934552610354], ['mlp', 21.084499979019164, 8.344403085265277], ['primal7', 10.281357126235962, 3.980200679337418], ['primal3', 22.9875, 6.634782255346958], ['primal5', 23.193333344459532, 8.699227623311653], ['primal4', 21.873166646957397, 7.275954656465044]], 'total_steps': [['primal2', 61.9032141494751, 10.215300310405178], ['mlp', 66.60366672515869, 8.370390787808647], ['primal7', 58.9815238571167, 10.418806461890565], ['primal3', 71.3204999923706, 4.735923450200105], ['primal5', 70.12199996948242, 6.857663165583753], ['primal4', 71.85183326721192, 4.699797215766051]]}\n"
     ]
    }
   ],
   "source": [
    "print(table_data)"
   ]
  },
  {
   "cell_type": "code",
   "execution_count": 66,
   "metadata": {},
   "outputs": [],
   "source": [
    "where = \"tables/Arc7x7.csv\"\n",
    "make_csv(table_data, where)"
   ]
  },
  {
   "cell_type": "markdown",
   "metadata": {},
   "source": [
    "# Arc 5X5"
   ]
  },
  {
   "cell_type": "code",
   "execution_count": 68,
   "metadata": {},
   "outputs": [
    {
     "name": "stdout",
     "output_type": "stream",
     "text": [
      "total_agent_collisions\n",
      "Item        Mean      Std\n",
      "-------  -------  -------\n",
      "primal2  4.38939  1.88407\n",
      "primal6  1.85667  1.30216\n",
      "mlp      2.60375  1.7318\n",
      "\n",
      "\n",
      "total_obstacle_collisions\n",
      "Item        Mean      Std\n",
      "-------  -------  -------\n",
      "primal2  7.98942  2.45689\n",
      "primal6  4.08684  1.55103\n",
      "mlp      7.29095  3.00721\n",
      "\n",
      "\n",
      "total_steps\n",
      "Item        Mean      Std\n",
      "-------  -------  -------\n",
      "primal2  31.7415  3.83791\n",
      "primal6  25.4331  4.03124\n",
      "mlp      29.0913  4.05137\n"
     ]
    }
   ],
   "source": [
    "filter_terms = [\"envsize_5\"]\n",
    "f_data = filter(all_data, filter_terms)\n",
    "\n",
    "alias = make_aliases(f_data.keys(), \"arc\")\n",
    "table_data = {}\n",
    "\n",
    "field = \"total_agent_collisions\"\n",
    "print(field)\n",
    "table_data[field] = get_mean_std(f_data, 100,field, alias,True)\n",
    "\n",
    "\n",
    "field = \"total_obstacle_collisions\"\n",
    "print(\"\\n\\n\" + field)\n",
    "table_data[field] = get_mean_std(f_data, 100,field, alias,True)\n",
    "\n",
    "\n",
    "field = \"total_steps\"\n",
    "print(\"\\n\\n\" + field)\n",
    "table_data[field] = get_mean_std(f_data, 100,field, alias, True)"
   ]
  },
  {
   "cell_type": "code",
   "execution_count": 69,
   "metadata": {},
   "outputs": [],
   "source": [
    "where = \"tables/Arc5x5.csv\"\n",
    "make_csv(table_data, where)"
   ]
  }
 ],
 "metadata": {
  "kernelspec": {
   "display_name": "Python 3.7.5 64-bit ('gridworld': conda)",
   "language": "python",
   "name": "python37564bitgridworldcondaa470b01e75544e91a588ed5e9d97392f"
  },
  "language_info": {
   "codemirror_mode": {
    "name": "ipython",
    "version": 3
   },
   "file_extension": ".py",
   "mimetype": "text/x-python",
   "name": "python",
   "nbconvert_exporter": "python",
   "pygments_lexer": "ipython3",
   "version": "3.7.5"
  }
 },
 "nbformat": 4,
 "nbformat_minor": 2
}
