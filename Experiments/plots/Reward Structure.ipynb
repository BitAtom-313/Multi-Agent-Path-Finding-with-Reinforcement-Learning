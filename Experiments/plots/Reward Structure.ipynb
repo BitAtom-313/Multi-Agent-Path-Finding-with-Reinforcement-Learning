{
 "cells": [
  {
   "cell_type": "code",
   "execution_count": 1,
   "metadata": {},
   "outputs": [],
   "source": [
    "from plotting_utils import *\n",
    "import matplotlib.pyplot as plt\n",
    "from cycler import cycler\n",
    "plt.style.use('ggplot')\n",
    "\n",
    "# plt.rcParams['font.family'] = 'serif'\n",
    "# plt.rcParams['font.serif'] = 'Ubuntu'\n",
    "# plt.rcParams['font.monospace'] = 'Ubuntu Mono'\n",
    "plt.rcParams['font.size'] = 10\n",
    "plt.rcParams['axes.labelsize'] = 10\n",
    "plt.rcParams['axes.labelweight'] = 'normal'\n",
    "plt.rcParams['axes.titlesize'] = 10\n",
    "plt.rcParams['xtick.labelsize'] = 10\n",
    "plt.rcParams['ytick.labelsize'] = 10\n",
    "plt.rcParams['legend.fontsize'] = 8\n",
    "#plt.rcParams['figure.titlesize'] = 15\n",
    "#plt.rcParams['figure.titleweight'] = 'bold'\n",
    "\n",
    "#plt.rc('lines', linewidth=4)\n",
    "#plt.rc('axes', prop_cycle=(cycler(color=['r', 'g', 'b', 'y']) +\n",
    "#                           cycler(linestyle=['-', '--', ':', '-.'])))\n",
    "plt.rc('axes', prop_cycle=(cycler(color=['red', 'green', 'blue', 'yellow','cyan', 'magenta',\\\n",
    "                                         'black', 'orange', 'maroon', 'lime', 'aqua', \\\n",
    "                                         'indigo', 'darkviolet', 'dimgray', 'deeppink'])))"
   ]
  },
  {
   "cell_type": "code",
   "execution_count": 2,
   "metadata": {},
   "outputs": [],
   "source": [
    "def plot2(ax, data, field, plot_term, params, smooth = None):\n",
    "    '''data is already in filtered form\n",
    "    data: {name:list of data_points} '''\n",
    "    def last(a):\n",
    "        return a[-1]\n",
    "\n",
    "    colours = ['red', 'green', 'blue', 'yellow','cyan', 'magenta',\\\n",
    "                'black', 'orange', 'maroon', 'lime', 'aqua', \\\n",
    "                'indigo', 'darkviolet', 'dimgray', 'deeppink']\n",
    "\n",
    "    all_plots = []\n",
    "   # all_points = {}\n",
    "    lookup = set()\n",
    "    exclude_last_points = 1\n",
    "    this_cmap = {}\n",
    "    c_cpy = colours[:]\n",
    "    c_taken = params[\"cmap\"].values()\n",
    "    for c in c_taken:\n",
    "        if c in c_cpy:\n",
    "            c_cpy.remove(c)\n",
    "    for i,(k, v) in enumerate(data.items()):\n",
    "        if plot_term in k:\n",
    "            exp_id = k.split(\"_\")\n",
    "            ind = exp_id.index(plot_term)\n",
    "            plot_term_value = exp_id[ind+1]\n",
    "            if not plot_term_value in lookup:\n",
    "                lookup.add(plot_term_value)\n",
    "                label = params[\"aliasplotterm\"] + ' = ' + plot_term_value\n",
    "                if not smooth is None:\n",
    "                    new_data = moving_average_filter(v[field], smooth)\n",
    "                    exclude_last_points = smooth + 1\n",
    "                else:\n",
    "                    new_data = v[field][:]\n",
    "                x = np.arange(len(new_data))\n",
    "                \n",
    "                if label in params[\"cmap\"]:\n",
    "                    c_hldr = params[\"cmap\"][label]\n",
    "                else:\n",
    "                    c_hldr = c_cpy[0]\n",
    "                    del c_cpy[0]\n",
    "                this_cmap[label] = c_hldr\n",
    "                #all_points[label] = (x, new_data, float(plot_term_value))\n",
    "                handle = ax.plot(x[7:-exclude_last_points], new_data[7:-exclude_last_points], label = label, color = c_hldr)[0]\n",
    "                all_plots.append((handle,label, float(plot_term_value)))\n",
    "\n",
    "\n",
    "  #  all_points = {k: v for k, v in sorted(all_points.items(), key=lambda item: item[1][2], reverse = True)}\n",
    "\n",
    "    handles, labels = ax.get_legend_handles_labels()\n",
    "    label_id = [float(l.split(\" = \")[-1]) for l in labels]\n",
    "    all_plots = [tuple(i) for i in zip(handles, labels, label_id)]\n",
    "   # all_plots.sort(key = last, reverse=True)\n",
    "\n",
    "\n",
    "   # print(handles, labels)\n",
    "\n",
    "    ax.set_xlabel(params[\"xlabel\"], fontsize = params[\"xlabelsize\"])  # Add an x-label to the axes.\n",
    "    ax.set_ylabel(params[\"ylabel\"], fontsize = params[\"ylabelsize\"])  # Add a y-label to the axes.\n",
    "    ax.set_title(params[\"title\"], fontsize = params[\"titlesize\"])  # Add a title to the axes.\n",
    "\n",
    "  #  handles = [p[0] for p in all_plots]\n",
    "   # lbls = [p[1] for p in all_plots]\n",
    "    h,l,_ = zip(*all_plots)\n",
    "    return h, l, this_cmap\n",
    "    #ax.legend(h, l)  # Add a legend.\n",
    "\n",
    "    \n",
    "#############################################################################################################\n",
    "\n",
    "def plot4(ax, data,field, plts, params, smooth = None):\n",
    "    ''' Plots the key-label pairs in plt where the key is a data item (single plot)'''\n",
    "    colours = ['red', 'green', 'blue', 'yellow','cyan', 'magenta',\\\n",
    "                'black', 'orange', 'maroon', 'lime', 'aqua', \\\n",
    "                'indigo', 'darkviolet', 'dimgray', 'deeppink']\n",
    "   # all_plots = []\n",
    "    \n",
    "    this_cmap = {}\n",
    "    c_cpy = colours[:]\n",
    "    c_taken = params[\"cmap\"].values()\n",
    "    for c in c_taken:\n",
    "        if c in c_cpy:\n",
    "            c_cpy.remove(c)\n",
    "    \n",
    "    for plt_key, plt_label in plts.items():\n",
    "        assert plt_key in data\n",
    "        #Data:\n",
    "        d = data[plt_key]\n",
    "        if not smooth is None:\n",
    "            smooth_data = moving_average_filter(d[field], smooth)\n",
    "            exclude_last_points = smooth + 1\n",
    "        else:\n",
    "            smooth_data = d[field]\n",
    "            exclude_last_points = 1\n",
    "        x = np.arange(len(smooth_data))\n",
    "        #Colours:\n",
    "        if plt_label in params[\"cmap\"]:\n",
    "            c_hldr = params[\"cmap\"][plt_label]\n",
    "        else:\n",
    "            c_hldr = c_cpy[0]\n",
    "            del c_cpy[0]\n",
    "        this_cmap[plt_label] = c_hldr\n",
    "        #Plot:\n",
    "        handle = ax.plot(x[7:-exclude_last_points], smooth_data[7:-exclude_last_points], label = plt_label, color = c_hldr)[0]\n",
    "      #  all_plots.append((handle,label, float(plot_term_value)))\n",
    "        \n",
    "        \n",
    "    handles, labels = ax.get_legend_handles_labels()\n",
    "    \n",
    "    ax.set_xlabel(params[\"xlabel\"], fontsize = params[\"xlabelsize\"])  # Add an x-label to the axes.\n",
    "    ax.set_ylabel(params[\"ylabel\"], fontsize = params[\"ylabelsize\"])  # Add a y-label to the axes.\n",
    "    ax.set_title(params[\"title\"], fontsize = params[\"titlesize\"])  # Add a title to the axes.\n",
    "    \n",
    "    return handles, labels, this_cmap"
   ]
  },
  {
   "cell_type": "code",
   "execution_count": 3,
   "metadata": {},
   "outputs": [],
   "source": [
    "from tabulate import tabulate\n",
    "def get_mean_std(data, last_data, field, keys_alias_dict = None, print_ = True, no_table = False):\n",
    "    '''Returns a table of mean std of data.\n",
    "    keys_alias_dict can specify the keys in data to be\n",
    "    plotted. The value item can specify an alias term, or\n",
    "    be none to use the key as data label.'''\n",
    "    csv_records = []\n",
    "    #sep = \",\"\n",
    "    #end_char = \"\\n\"\n",
    "    assert last_data > -1\n",
    "    table = []\n",
    "    hdrs = [\"Item\", \"Mean\", \"Std\"]\n",
    "    no_table_dict = {}\n",
    "    if keys_alias_dict is None:\n",
    "        for k,v in data.items():\n",
    "            new_d = np.array(v[field][-last_data:])\n",
    "            m = new_d.mean()\n",
    "            std = new_d.std()\n",
    "            hldr = [k,m,std]\n",
    "            if no_table:\n",
    "                no_table_dict[ak] = (m,std)\n",
    "            table.append(hldr)\n",
    "            csv_records.append(hldr)\n",
    "    else:\n",
    "        for k, ak in keys_alias_dict.items():\n",
    "            new_d = np.array(data[k][field][-last_data:])\n",
    "            m = new_d.mean()\n",
    "            std = new_d.std()\n",
    "            if ak is None:\n",
    "                ak = k\n",
    "            hldr = [ak,m,std]\n",
    "            if no_table:\n",
    "                no_table_dict[ak] = (m,std)\n",
    "            table.append(hldr)\n",
    "            csv_records.append(hldr)\n",
    "\n",
    "    if print_:\n",
    "        print(tabulate(table, headers = hdrs))\n",
    "        \n",
    "    if no_table:\n",
    "        return no_table_dict\n",
    "    else:\n",
    "        return csv_records"
   ]
  },
  {
   "cell_type": "code",
   "execution_count": 4,
   "metadata": {},
   "outputs": [],
   "source": [
    "def make_csv(table_dict, name):\n",
    "    ''' table_dict contains {header: [row_label, mean, std]}'''\n",
    "    sep = \",\"\n",
    "    line_end = \"\\n\"\n",
    "    rows = {}\n",
    "    header = \"Architecture\"\n",
    "    for k,v in table_dict.items():\n",
    "        header += sep + k\n",
    "        for r in v:\n",
    "            m = str(np.round(r[1], 2))\n",
    "            std = str(np.round(r[2],1))\n",
    "            if not r[0] in rows:\n",
    "                rows[r[0]] = r[0]\n",
    "            rows[r[0]] += sep + m + \"$\\pm$\" + std\n",
    "    csv_txt = header + line_end\n",
    "    for v in rows.values():\n",
    "        csv_txt += v + line_end\n",
    "    f = open(make_exist(name), 'w')\n",
    "    f.write(csv_txt)\n",
    "    f.close()\n",
    "    #print(csv_txt)\n",
    "        "
   ]
  },
  {
   "cell_type": "code",
   "execution_count": 86,
   "metadata": {},
   "outputs": [
    {
     "name": "stdout",
     "output_type": "stream",
     "text": [
      "[2, 3, 5, 2, 3, 5, 2, 3, 5, 2, 3, 5]\n"
     ]
    }
   ],
   "source": [
    "y = [2,3,5]\n",
    "\n",
    "print(y2)"
   ]
  },
  {
   "cell_type": "code",
   "execution_count": 11,
   "metadata": {},
   "outputs": [
    {
     "data": {
      "image/png": "[encoded data removed]",
      "text/plain": [
       "<Figure size 720x288 with 1 Axes>"
      ]
     },
     "metadata": {},
     "output_type": "display_data"
    }
   ],
   "source": [
    "x = [1,2,3]\n",
    "y = [2,3,5]\n",
    "y_err = [1.5, 0.2, 0.8]\n",
    "fig, (ax1) = plt.subplots(1,1, figsize=(10,4))\n",
    "ax1.errorbar(x,y, yerr = y_err, fmt = 's', ms = 10, capsize = 8.0, capthick = 0.5, ecolor = 'k', label= 'A')\n",
    "y2 = [i*2 for i in y]\n",
    "x2 = [i+0.1 for i in x]\n",
    "ax1.errorbar(x2,y2, yerr = y_err, color='g', fmt = 'o', ms = 10, capsize = 8.0, capthick = 0.5, ecolor = 'darkgreen', label = \"B\")\n",
    "ax1.legend()\n",
    "plt.show()"
   ]
  },
  {
   "cell_type": "code",
   "execution_count": 46,
   "metadata": {},
   "outputs": [],
   "source": [
    "# def scatter_errorbars(ax_tuple, data, plt_xvalue_dict, fields_title_dict, last_data = -100):\n",
    "#     assert len(ax_tuple) == len(fields_title_dict)\n",
    "#     all_ax = []\n",
    "#     for ax, field, title in zip(ax_tuple, fields_title_dict.keys(), fields_title_dict.values()):\n",
    "#         all_ax.append(ax)\n",
    "#         x_vals = []\n",
    "#         y_vals = []\n",
    "#         y_err = []\n",
    "#         for plt_name, x_val in plt_xvalue_dict.items():\n",
    "#             keys_alias_dict = {}\n",
    "#             keys_alias_dict[plt_name] = str(x_val)\n",
    "#             result = get_mean_std(data, last_data, field, key_alias_dict, no_table = True)\n",
    "#             (m, std) = result[plt_name]\n",
    "#             x_vals.append(x_val)\n",
    "#             y_vals.append(m)\n",
    "#             y_err.append(std)\n",
    "#         ax.errorbar(x_vals,y_vals, yerr = y_err,fmt = 's', ms = 5,\\\n",
    "#                     capsize = 8.0, capthick = 0.5, ecolor = 'k')\n",
    "#         ax.set_title(title, fontsize = 15) \n",
    "#     return all_ax\n",
    "            \n",
    "    "
   ]
  },
  {
   "cell_type": "markdown",
   "metadata": {},
   "source": [
    "# Reward Types"
   ]
  },
  {
   "cell_type": "markdown",
   "metadata": {},
   "source": [
    "# Fully Cooperative"
   ]
  },
  {
   "cell_type": "markdown",
   "metadata": {},
   "source": [
    "## 1. With increasing reward depending on how many agents are on the goal:\n",
    "(search navigation-v6_1)\n",
    "\n",
    "rewad structure:\n",
    "\n",
    "## stepr = nagennts * -0.2\n",
    "\n",
    "object_collision = -0.05 #-0.015#-0.1  #Changed to 0.0\n",
    "        agent_collision = -0.4\n",
    "        goal_reached= 0.05\n",
    "        finish_episode = 0.0\n",
    "        \n",
    "        \n",
    "## for reaching goals agents receive reward: (n_agents_on_goal**2.5) * rewards.goal_reached\n"
   ]
  },
  {
   "cell_type": "markdown",
   "metadata": {},
   "source": [
    "For this experiment the learning curves and rendering show that MAAC converges to a suboptimal equilibrium whilst PPO does not. MAAC agents only allows three agents to finish whilst the last agent waits, even though it is resulting in less reward."
   ]
  },
  {
   "cell_type": "code",
   "execution_count": 7,
   "metadata": {},
   "outputs": [],
   "source": [
    "source = '/home/james/Desktop/Gridworld/EXPERIMENTS/2A2'\n",
    "all_data = get_event_data(source)"
   ]
  },
  {
   "cell_type": "code",
   "execution_count": 8,
   "metadata": {},
   "outputs": [
    {
     "name": "stdout",
     "output_type": "stream",
     "text": [
      "dict_keys(['benchmark_2999', 'benchmark_9999', 'benchmark_5999', 'benchmark_8999', 'benchmark_99999', 'benchmark_15000', 'benchmark_29999', 'benchmark_1499', 'benchmark_149999', 'benchmark_75000', 'benchmark_60000', 'benchmark_30000', 'benchmark_90000', 'benchmark_45000'])\n"
     ]
    }
   ],
   "source": [
    "print(all_data.keys())"
   ]
  },
  {
   "cell_type": "code",
   "execution_count": 5,
   "metadata": {},
   "outputs": [
    {
     "name": "stdout",
     "output_type": "stream",
     "text": [
      "WARNING:tensorflow:From /home/james/anaconda3/envs/gridworld/lib/python3.7/site-packages/tensorflow/python/summary/summary_iterator.py:68: tf_record_iterator (from tensorflow.python.lib.io.tf_record) is deprecated and will be removed in a future version.\n",
      "Instructions for updating:\n",
      "Use eager execution and: \n",
      "`tf.data.TFRecordDataset(path)`\n"
     ]
    }
   ],
   "source": [
    "#navigation-v6_1\n",
    "#Benchmark plots\n",
    "\n",
    "ppo_source = \"/home/james/Desktop/Gridworld/EXPERIMENTS/2A2/2A2_ppo_globalr_arc_primal6_env_independent_navigation-v6_1_disc_0.5_lambda_1.0_entropy_0.01_minibatch_512_rollouts_256_workers_4_kepochs_8_envsize_5_nagents_4_objdensity_0.2_seed_1_N0/benchmark\"\n",
    "ppo_data = get_event_data(ppo_source)\n",
    "maac_source = \"/home/james/Desktop/Gridworld/EXPERIMENTS/2A2/2A2_maac_globalr__arc_primal6_env_independent_navigation-v6_1_disc_0.9_rewardscale_10_minibatch_1024_nupdates_100_attheads_4_envsize_5_nagents_4_objdensity_0.2_seed_1_0/benchmark\"\n",
    "maac_data = get_event_data(maac_source)\n",
    "\n",
    "combine_data = {}\n",
    "\n",
    "combine_data[\"ppo\"] = ppo_data[\"benchmark_9999\"]\n",
    "combine_data[\"maac\"] = maac_data[\"benchmark_99999\"]\n"
   ]
  },
  {
   "cell_type": "code",
   "execution_count": 6,
   "metadata": {},
   "outputs": [
    {
     "name": "stdout",
     "output_type": "stream",
     "text": [
      "Item       Mean      Std\n",
      "------  -------  -------\n",
      "ppo     18.8632  9.15781\n",
      "maac    24.8421  4.91467\n",
      "Item       Mean       Std\n",
      "------  -------  --------\n",
      "ppo     1.74737   6.08876\n",
      "maac    3.09474  11.5995\n",
      "Item       Mean     Std\n",
      "------  -------  ------\n",
      "ppo     1.68085  3.0743\n",
      "maac    1.52128  5.3688\n",
      "Item        Mean       Std\n",
      "------  --------  --------\n",
      "ppo     0.771277  0.246409\n",
      "maac    0.704787  0.150189\n",
      "Item         Mean       Std\n",
      "------  ---------  --------\n",
      "ppo     0.414894   0.492704\n",
      "maac    0.0531915  0.224415\n"
     ]
    }
   ],
   "source": [
    "table_data = {}\n",
    "\n",
    "field = \"total_steps\"\n",
    "table_data[field] = get_mean_std(combine_data, -100, field)\n",
    "\n",
    "field = \"total_agent_collisions\"\n",
    "table_data[field] = get_mean_std(combine_data, -100, field)\n",
    "\n",
    "\n",
    "field = \"total_obstacle_collisions\"\n",
    "table_data[field] = get_mean_std(combine_data, -100, field)\n",
    "\n",
    "field = \"agent_dones\"\n",
    "table_data[field] = get_mean_std(combine_data, -100, field)\n",
    "\n",
    "field = \"all_agents_on_goal\"\n",
    "table_data[field] = get_mean_std(combine_data, -100, field)\n",
    "\n"
   ]
  },
  {
   "cell_type": "code",
   "execution_count": 21,
   "metadata": {},
   "outputs": [
    {
     "name": "stdout",
     "output_type": "stream",
     "text": [
      "{'all_agents_on_goal': [['ppo', 0.4148936170212766, 0.49270366710252816], ['maac', 0.05319148936170213, 0.22441513946520195]], 'agent_dones': [['ppo', 0.7712765957446809, 0.24640925152979723], ['maac', 0.7047872340425532, 0.15018944578186705]], 'total_agent_collisions': [['ppo', 1.7473684210526317, 6.088761728839594], ['maac', 3.094736842105263, 11.59952238963269]], 'total_obstacle_collisions': [['ppo', 1.6808510638297873, 3.0743024324069226], ['maac', 1.5212765957446808, 5.368800181751962]]}\n"
     ]
    }
   ],
   "source": [
    "print(table_data)"
   ]
  },
  {
   "cell_type": "code",
   "execution_count": 7,
   "metadata": {},
   "outputs": [],
   "source": [
    "where = \"tables/2/global_v6_1.csv\"\n",
    "make_csv(table_data, where)"
   ]
  },
  {
   "cell_type": "code",
   "execution_count": null,
   "metadata": {},
   "outputs": [],
   "source": []
  },
  {
   "cell_type": "code",
   "execution_count": null,
   "metadata": {},
   "outputs": [],
   "source": []
  },
  {
   "cell_type": "markdown",
   "metadata": {},
   "source": [
    "## 2. Single sparse reward when all agents reach the goal. Agents not penalized for collisions\n",
    "(search navigation-v5_1)\n",
    "\n",
    "Both policies perform very poorly, although PPO performs better in that it shows a continual improvement whilst MAAC shows some signs of learning and then converges to random a policy where no agents reach their goals. This is unexpected since MAAC is off policy and especially suited for sparse global rewards, making use of counterfactual rewards. \n",
    "\n",
    "Agents do not learn to avoid collisions since no penalies are given, although avoiding collisions whould mean reaching the goal in fewer time steps"
   ]
  },
  {
   "cell_type": "code",
   "execution_count": 29,
   "metadata": {},
   "outputs": [],
   "source": [
    "source = \"/home/james/Desktop/Gridworld/CENTRAL_TENSORBOARD/2A2\"\n",
    "all_data = get_event_data(source, False)\n",
    "\n",
    "alias_plts = {}\n",
    "alias_plts[\"2A2_maac_globalr__arc_primal6_env_independent_navigation-v5_1_disc_0.9_rewardscale_10_minibatch_1024_nupdates_100_attheads_4_envsize_5_nagents_4_objdensity_0.2_seed_1_N2\"] = \"MAAC\"\n",
    "alias_plts[\"2A2_ppo_globalr_arc_primal6_env_independent_navigation-v5_1_disc_0.5_lambda_1.0_entropy_0.01_minibatch_512_rollouts_256_workers_4_kepochs_8_envsize_5_nagents_4_objdensity_0.2_seed_1\"] = \"PPO\""
   ]
  },
  {
   "cell_type": "code",
   "execution_count": 28,
   "metadata": {},
   "outputs": [
    {
     "data": {
      "text/plain": [
       "dict_keys(['benchmark_15000', 'benchmark_99999', 'benchmark_75000', 'benchmark_60000', 'benchmark_30000', 'benchmark_90000', 'benchmark_45000'])"
      ]
     },
     "execution_count": 28,
     "metadata": {},
     "output_type": "execute_result"
    }
   ],
   "source": [
    "all_data.keys()"
   ]
  },
  {
   "cell_type": "code",
   "execution_count": null,
   "metadata": {},
   "outputs": [],
   "source": [
    "#ppo_source = \"/home/james/Desktop/Gridworld/EXPERIMENTS/2A2/2A2_ppo_globalr_arc_primal6_env_independent_navigation-v6_1_disc_0.5_lambda_1.0_entropy_0.01_minibatch_512_rollouts_256_workers_4_kepochs_8_envsize_5_nagents_4_objdensity_0.2_seed_1_N0/benchmark\"\n",
    "ppo_source = \"/home/james/Desktop/Gridworld/EXPERIMENTS/2A2/2A2_ppo_globalr_arc_primal6_env_independent_navigation-v5_1_disc_0.5_lambda_1.0_entropy_0.01_minibatch_512_rollouts_256_workers_4_kepochs_8_envsize_5_nagents_4_objdensity_0.2_seed_1_N0\"\n",
    "ppo_data = get_event_data(ppo_source)\n",
    "#maac_source = \"/home/james/Desktop/Gridworld/EXPERIMENTS/2A2/2A2_maac_globalr__arc_primal6_env_independent_navigation-v6_1_disc_0.9_rewardscale_10_minibatch_1024_nupdates_100_attheads_4_envsize_5_nagents_4_objdensity_0.2_seed_1_0/benchmark\"\n",
    "\n",
    "maac_data = get_event_data(maac_source)\n",
    "\n",
    "combine_data = {}\n",
    "\n",
    "combine_data[\"ppo\"] = ppo_data[\"benchmark_9999\"]\n",
    "combine_data[\"maac\"] = maac_data[\"benchmark_99999\"]"
   ]
  },
  {
   "cell_type": "code",
   "execution_count": 32,
   "metadata": {},
   "outputs": [
    {
     "name": "stdout",
     "output_type": "stream",
     "text": [
      "Item           Mean         Std\n",
      "------  -----------  ----------\n",
      "MAAC    2.00602e-05  0.00447881\n",
      "PPO     0.00161059   0.0123414\n",
      "Item          Mean        Std\n",
      "------  ----------  ---------\n",
      "MAAC    0.00584253  0.0405852\n",
      "PPO     0.0842353   0.0530973\n",
      "Item       Mean      Std\n",
      "------  -------  -------\n",
      "MAAC    11.1458  6.32042\n",
      "PPO     10.7072  1.89848\n",
      "Item       Mean      Std\n",
      "------  -------  -------\n",
      "MAAC    12.7357  5.05053\n",
      "PPO     11.9276  1.49884\n"
     ]
    }
   ],
   "source": [
    "table_data = {}\n",
    "field = \"all_agents_on_goal\"\n",
    "table_data[field] = get_mean_std(all_data, -100, field, alias_plts)\n",
    "\n",
    "\n",
    "field = \"agent_dones\"\n",
    "table_data[field] = get_mean_std(all_data, -100, field, alias_plts)\n",
    "\n",
    "\n",
    "field = \"total_agent_collisions\"\n",
    "table_data[field] = get_mean_std(all_data, -100, field, alias_plts)\n",
    "\n",
    "field = \"total_obstacle_collisions\"\n",
    "table_data[field] = get_mean_std(all_data, -100, field, alias_plts)"
   ]
  },
  {
   "cell_type": "code",
   "execution_count": 31,
   "metadata": {},
   "outputs": [],
   "source": [
    "where = \"tables/2/global_v5_1.csv\"\n",
    "make_csv(table_data, where)"
   ]
  },
  {
   "cell_type": "markdown",
   "metadata": {},
   "source": [
    "## Experiment redo   (2A2t_Central):"
   ]
  },
  {
   "cell_type": "code",
   "execution_count": 13,
   "metadata": {},
   "outputs": [],
   "source": [
    "source = \"/home/james/Desktop/Gridworld/CENTRAL_TENSORBOARD/2A2t_Central\"\n",
    "all_data = get_event_data(source, False)\n",
    "\n",
    "alias_plts = {}\n",
    "alias_plts[\"2A2_ppo_globalr_arc_primal6_env_independent_navigation-v5_1_disc_0.5_lambda_1.0_entropy_0.01_minibatch_512_rollouts_256_workers_4_kepochs_8_envsize_5_nagents_4_objdensity_0.2_seed_1\"] = \"PPO\"\n",
    "alias_plts[\"2A2_maac_globalr__arc_primal6_env_independent_navigation-v5_1_disc_0.9_rewardscale_10_minibatch_1024_nupdates_100_attheads_4_envsize_5_nagents_4_objdensity_0.2_seed_1_N1\"] = \"MAAC\"\n"
   ]
  },
  {
   "cell_type": "code",
   "execution_count": 14,
   "metadata": {},
   "outputs": [
    {
     "name": "stdout",
     "output_type": "stream",
     "text": [
      "Item       Mean       Std\n",
      "------  -------  --------\n",
      "PPO     25.9484  0.270007\n",
      "MAAC    25.9928  0.353285\n",
      "Item       Mean      Std\n",
      "------  -------  -------\n",
      "PPO     10.618   1.89072\n",
      "MAAC    10.7513  5.94715\n",
      "Item       Mean      Std\n",
      "------  -------  -------\n",
      "PPO     11.8402  1.52845\n",
      "MAAC    11.9918  4.68924\n",
      "Item         Mean        Std\n",
      "------  ---------  ---------\n",
      "PPO     0.108184   0.0749378\n",
      "MAAC    0.0617811  0.122094\n",
      "Item          Mean        Std\n",
      "------  ----------  ---------\n",
      "PPO     0.00512412  0.0237315\n",
      "MAAC    0.0005606   0.0236704\n"
     ]
    }
   ],
   "source": [
    "table_data = {}\n",
    "\n",
    "field = \"total_steps\"\n",
    "table_data[field] = get_mean_std(all_data, -100, field, alias_plts)\n",
    "\n",
    "field = \"total_agent_collisions\"\n",
    "table_data[field] = get_mean_std(all_data, -100, field, alias_plts)\n",
    "\n",
    "field = \"total_obstacle_collisions\"\n",
    "table_data[field] = get_mean_std(all_data, -100, field, alias_plts)\n",
    "\n",
    "field = \"agent_dones\"\n",
    "table_data[field] = get_mean_std(all_data, -100, field, alias_plts)\n",
    "\n",
    "field = \"all_agents_on_goal\"\n",
    "table_data[field] = get_mean_std(all_data, -100, field, alias_plts)"
   ]
  },
  {
   "cell_type": "code",
   "execution_count": 15,
   "metadata": {},
   "outputs": [],
   "source": [
    "where = \"tables/2/global_v5_1.csv\"\n",
    "make_csv(table_data, where)"
   ]
  },
  {
   "cell_type": "markdown",
   "metadata": {},
   "source": [
    "## 3. Agens receive a single sparse reward, but are penalized (global penalty) for collisions.\n",
    "\n",
    "Similarly to nr. 2, PPO outperforms MAAC. Both polices learn to avoid collisions."
   ]
  },
  {
   "cell_type": "code",
   "execution_count": 33,
   "metadata": {},
   "outputs": [],
   "source": [
    "ppo_source = \"/home/james/Desktop/Gridworld/EXPERIMENTS/2A2/2A2_ppo_globalr_arc_primal6_env_independent_navigation-v5_2_disc_0.5_lambda_1.0_entropy_0.01_minibatch_512_rollouts_256_workers_4_kepochs_8_envsize_5_nagents_4_objdensity_0.2_seed_1_N0/benchmark\"\n",
    "ppo_data = get_event_data(ppo_source)\n",
    "maac_source = \"/home/james/Desktop/Gridworld/EXPERIMENTS/2A2/2A2_maac_globalr__arc_primal6_env_independent_navigation-v5_2_disc_0.9_rewardscale_10_minibatch_1024_nupdates_100_attheads_4_envsize_5_nagents_4_objdensity_0.2_seed_1_0/benchmark\"\n",
    "maac_data = get_event_data(maac_source)\n",
    "\n",
    "combine_data = {}\n",
    "\n",
    "combine_data[\"ppo\"] = ppo_data[\"benchmark_9999\"]\n",
    "combine_data[\"maac\"] = maac_data[\"benchmark_99999\"]"
   ]
  },
  {
   "cell_type": "code",
   "execution_count": 34,
   "metadata": {},
   "outputs": [
    {
     "name": "stdout",
     "output_type": "stream",
     "text": [
      "Item         Mean       Std\n",
      "------  ---------  --------\n",
      "ppo     0.0957447  0.294241\n",
      "maac    0          0\n",
      "Item          Mean       Std\n",
      "------  ----------  --------\n",
      "ppo     0.295213    0.298406\n",
      "maac    0.00265957  0.025648\n",
      "Item        Mean      Std\n",
      "------  --------  -------\n",
      "ppo     0.526316  1.20387\n",
      "maac    0         0\n",
      "Item       Mean      Std\n",
      "------  -------  -------\n",
      "ppo     1.20213  1.30123\n",
      "maac    0        0\n"
     ]
    }
   ],
   "source": [
    "table_data = {}\n",
    "field = \"all_agents_on_goal\"\n",
    "table_data[field] = get_mean_std(combine_data, -100, field)\n",
    "\n",
    "\n",
    "field = \"agent_dones\"\n",
    "table_data[field] = get_mean_std(combine_data, -100, field)\n",
    "\n",
    "\n",
    "field = \"total_agent_collisions\"\n",
    "table_data[field] = get_mean_std(combine_data, -100, field)\n",
    "\n",
    "field = \"total_obstacle_collisions\"\n",
    "table_data[field] = get_mean_std(combine_data, -100, field)"
   ]
  },
  {
   "cell_type": "code",
   "execution_count": 35,
   "metadata": {},
   "outputs": [],
   "source": [
    "where = \"tables/2/global_v5_2.csv\"\n",
    "make_csv(table_data, where)"
   ]
  },
  {
   "cell_type": "markdown",
   "metadata": {},
   "source": [
    "## Experiment redo   (2A2t_Central):"
   ]
  },
  {
   "cell_type": "code",
   "execution_count": 19,
   "metadata": {},
   "outputs": [],
   "source": [
    "source = \"/home/james/Desktop/Gridworld/CENTRAL_TENSORBOARD/2A2t_Central\"\n",
    "all_data = get_event_data(source, False)\n",
    "\n",
    "alias_plts = {}\n",
    "alias_plts[\"2A2_ppo_globalr_arc_primal6_env_independent_navigation-v5_2_disc_0.5_lambda_1.0_entropy_0.01_minibatch_512_rollouts_256_workers_4_kepochs_8_envsize_5_nagents_4_objdensity_0.2_seed_1\"] = \"PPO\"\n",
    "alias_plts[\"2A2_maac_globalr__arc_primal6_env_independent_navigation-v5_2_disc_0.9_rewardscale_10_minibatch_1024_nupdates_100_attheads_4_envsize_5_nagents_4_objdensity_0.2_seed_1_N4\"] = \"MAAC\""
   ]
  },
  {
   "cell_type": "code",
   "execution_count": 20,
   "metadata": {},
   "outputs": [
    {
     "name": "stdout",
     "output_type": "stream",
     "text": [
      "Item       Mean        Std\n",
      "------  -------  ---------\n",
      "PPO     23.7748  2.87186\n",
      "MAAC    25.9998  0.0401451\n",
      "Item        Mean      Std\n",
      "------  --------  -------\n",
      "PPO     1.14971   1.16557\n",
      "MAAC    0.304464  1.25581\n",
      "Item       Mean      Std\n",
      "------  -------  -------\n",
      "PPO     2.83043  2.40414\n",
      "MAAC    1.50558  2.05824\n",
      "Item         Mean        Std\n",
      "------  ---------  ---------\n",
      "PPO     0.415641   0.252292\n",
      "MAAC    0.0241927  0.0797579\n",
      "Item           Mean         Std\n",
      "------  -----------  ----------\n",
      "PPO     0.158096     0.185855\n",
      "MAAC    4.00416e-05  0.00632772\n"
     ]
    }
   ],
   "source": [
    "table_data = {}\n",
    "\n",
    "field = \"total_steps\"\n",
    "table_data[field] = get_mean_std(all_data, -100, field, alias_plts)\n",
    "\n",
    "field = \"total_agent_collisions\"\n",
    "table_data[field] = get_mean_std(all_data, -100, field, alias_plts)\n",
    "\n",
    "field = \"total_obstacle_collisions\"\n",
    "table_data[field] = get_mean_std(all_data, -100, field, alias_plts)\n",
    "\n",
    "field = \"agent_dones\"\n",
    "table_data[field] = get_mean_std(all_data, -100, field, alias_plts)\n",
    "\n",
    "field = \"all_agents_on_goal\"\n",
    "table_data[field] = get_mean_std(all_data, -100, field, alias_plts)"
   ]
  },
  {
   "cell_type": "code",
   "execution_count": 21,
   "metadata": {},
   "outputs": [],
   "source": [
    "where = \"tables/2/global_v5_2.csv\"\n",
    "make_csv(table_data, where)"
   ]
  },
  {
   "cell_type": "markdown",
   "metadata": {},
   "source": [
    "# Individual rewards"
   ]
  },
  {
   "cell_type": "markdown",
   "metadata": {},
   "source": [
    "## Step reward varied:\n",
    "\n",
    "sr_-0.01_ocr_-0.015_acr_-0.4_grr_0.1_fer_0.0\n",
    "\n",
    "with stepr = -0.01   -0.1  -0.4"
   ]
  },
  {
   "cell_type": "code",
   "execution_count": 24,
   "metadata": {},
   "outputs": [],
   "source": [
    "source = \"/home/james/Desktop/Gridworld/CENTRAL_TENSORBOARD/2A2\"\n",
    "all_data = get_event_data(source, False)"
   ]
  },
  {
   "cell_type": "code",
   "execution_count": 25,
   "metadata": {},
   "outputs": [],
   "source": [
    "#source = \"/home/james/Desktop/Gridworld/CENTRAL_TENSORBOARD/2A2\"\n",
    "#all_data = get_event_data(source, False)\n",
    "\n",
    "alias_plts = {}\n",
    "alias_plts[\"2A2_ppo_arc_primal6_sr_-0.01_ocr_-0.015_acr_-0.4_grr_0.1_fer_0.0_disc_0.5_lambda_1.0_entropy_0.01_minibatch_512_rollouts_256_workers_4_kepochs_8_envsize_5_nagents_4_objdensity_0.2_seed_1\"] = \"PPO_-0.01\"\n",
    "alias_plts[\"2A2_ppo_arc_primal6_sr_-0.1_ocr_-0.015_acr_-0.4_grr_0.1_fer_0.0_disc_0.5_lambda_1.0_entropy_0.01_minibatch_512_rollouts_256_workers_4_kepochs_8_envsize_5_nagents_4_objdensity_0.2_seed_1\"] = \"PPO_-0.1\"\n",
    "alias_plts[\"2A2_ppo_arc_primal6_sr_-0.4_ocr_-0.015_acr_-0.4_grr_0.1_fer_0.0_disc_0.5_lambda_1.0_entropy_0.01_minibatch_512_rollouts_256_workers_4_kepochs_8_envsize_5_nagents_4_objdensity_0.2_seed_1\"] = \"PPO_-0.4\"\n",
    "\n",
    "\n",
    "alias_plts[\"2A2_maac__arc_primal6_sr_-0.01_ocr_-0.015_acr_-0.4_grr_0.1_fer_0.0_disc_0.9_rewardscale_10_minibatch_1024_nupdates_100_attheads_4_envsize_5_nagents_4_objdensity_0.2_seed_1\"] = \"MAAC_-0.01\"\n",
    "alias_plts[\"2A2_maac__arc_primal6_sr_-0.1_ocr_-0.015_acr_-0.4_grr_0.1_fer_0.0_disc_0.9_rewardscale_10_minibatch_1024_nupdates_100_attheads_4_envsize_5_nagents_4_objdensity_0.2_seed_1\"] = \"MAAC_-0.1\"\n",
    "alias_plts[\"2A2_maac__arc_primal6_sr_-0.4_ocr_-0.015_acr_-0.4_grr_0.1_fer_0.0_disc_0.9_rewardscale_10_minibatch_1024_nupdates_100_attheads_4_envsize_5_nagents_4_objdensity_0.2_seed_1\"] = \"MAAC_-0.4\"\n"
   ]
  },
  {
   "cell_type": "code",
   "execution_count": 26,
   "metadata": {},
   "outputs": [
    {
     "name": "stdout",
     "output_type": "stream",
     "text": [
      "Item           Mean       Std\n",
      "----------  -------  --------\n",
      "PPO_-0.01   29.2713   4.44429\n",
      "PPO_-0.1    19.0827   2.6807\n",
      "PPO_-0.4    17.9478   2.93486\n",
      "MAAC_-0.01  29.3837  13.3352\n",
      "MAAC_-0.1   21.4935   7.96681\n",
      "MAAC_-0.4   20.6079   8.52833\n",
      "Item            Mean      Std\n",
      "----------  --------  -------\n",
      "PPO_-0.01   2.1733    1.72579\n",
      "PPO_-0.1    1.64165   1.26335\n",
      "PPO_-0.4    2.35789   1.80451\n",
      "MAAC_-0.01  0.490504  2.43312\n",
      "MAAC_-0.1   0.669164  2.40663\n",
      "MAAC_-0.4   1.53288   4.01316\n",
      "Item           Mean      Std\n",
      "----------  -------  -------\n",
      "PPO_-0.01   6.87067  2.65474\n",
      "PPO_-0.1    4.51371  1.69321\n",
      "PPO_-0.4    3.56879  1.74252\n",
      "MAAC_-0.01  3.64182  4.80418\n",
      "MAAC_-0.1   3.48334  3.98492\n",
      "MAAC_-0.4   4.23595  4.45753\n",
      "Item            Mean        Std\n",
      "----------  --------  ---------\n",
      "PPO_-0.01   0.755193  0.0884213\n",
      "PPO_-0.1    0.798107  0.0682543\n",
      "PPO_-0.4    0.822956  0.0686914\n",
      "MAAC_-0.01  0.675335  0.317899\n",
      "MAAC_-0.1   0.660995  0.301879\n",
      "MAAC_-0.4   0.729607  0.25061\n",
      "Item            Mean       Std\n",
      "----------  --------  --------\n",
      "PPO_-0.01   0.373031  0.16739\n",
      "PPO_-0.1    0.430046  0.147354\n",
      "PPO_-0.4    0.471578  0.153301\n",
      "MAAC_-0.01  0.332141  0.470981\n",
      "MAAC_-0.1   0.28214   0.450041\n",
      "MAAC_-0.4   0.330647  0.470446\n"
     ]
    }
   ],
   "source": [
    "table_data = {}\n",
    "\n",
    "field = \"total_steps\"\n",
    "table_data[field] = get_mean_std(all_data, -100, field, alias_plts)\n",
    "\n",
    "field = \"total_agent_collisions\"\n",
    "table_data[field] = get_mean_std(all_data, -100, field, alias_plts)\n",
    "\n",
    "field = \"total_obstacle_collisions\"\n",
    "table_data[field] = get_mean_std(all_data, -100, field, alias_plts)\n",
    "\n",
    "field = \"agent_dones\"\n",
    "table_data[field] = get_mean_std(all_data, -100, field, alias_plts)\n",
    "\n",
    "\n",
    "field = \"all_agents_on_goal\"\n",
    "table_data[field] = get_mean_std(all_data, -100, field, alias_plts)\n"
   ]
  },
  {
   "cell_type": "code",
   "execution_count": 27,
   "metadata": {},
   "outputs": [],
   "source": [
    "where = \"tables/2/indiv_step.csv\"\n",
    "make_csv(table_data, where)"
   ]
  },
  {
   "cell_type": "markdown",
   "metadata": {},
   "source": [
    "## Object collision varied from -0.015 to -0.4\n",
    "sr_-0.1_ocr_-0.4_acr_-0.4_grr_0.1_fer_0.0"
   ]
  },
  {
   "cell_type": "code",
   "execution_count": 28,
   "metadata": {},
   "outputs": [],
   "source": [
    "alias_plts = {}\n",
    "\n",
    "alias_plts[\"2A2_ppo_arc_primal6_sr_-0.1_ocr_-0.015_acr_-0.4_grr_0.1_fer_0.0_disc_0.5_lambda_1.0_entropy_0.01_minibatch_512_rollouts_256_workers_4_kepochs_8_envsize_5_nagents_4_objdensity_0.2_seed_1\"] = \"PPO_-0.015\"\n",
    "alias_plts[\"2A2_ppo_arc_primal6_sr_-0.1_ocr_-0.4_acr_-0.4_grr_0.1_fer_0.0_disc_0.5_lambda_1.0_entropy_0.01_minibatch_512_rollouts_256_workers_4_kepochs_8_envsize_5_nagents_4_objdensity_0.2_seed_1\"] = \"PPO_-0.4\"\n",
    "\n",
    "alias_plts[\"2A2_maac__arc_primal6_sr_-0.1_ocr_-0.015_acr_-0.4_grr_0.1_fer_0.0_disc_0.9_rewardscale_10_minibatch_1024_nupdates_100_attheads_4_envsize_5_nagents_4_objdensity_0.2_seed_1\"] = \"MAAC_-0.015\"\n",
    "alias_plts[\"2A2_maac__arc_primal6_sr_-0.1_ocr_-0.4_acr_-0.4_grr_0.1_fer_0.0_disc_0.9_rewardscale_10_minibatch_1024_nupdates_100_attheads_4_envsize_5_nagents_4_objdensity_0.2_seed_1\"] = \"MAAC_-0.4\""
   ]
  },
  {
   "cell_type": "code",
   "execution_count": 30,
   "metadata": {},
   "outputs": [
    {
     "name": "stdout",
     "output_type": "stream",
     "text": [
      "Item            Mean      Std\n",
      "-----------  -------  -------\n",
      "PPO_-0.015   19.0827  2.6807\n",
      "PPO_-0.4     18.5902  2.95923\n",
      "MAAC_-0.015  21.4935  7.96681\n",
      "MAAC_-0.4    26       0\n",
      "Item              Mean      Std\n",
      "-----------  ---------  -------\n",
      "PPO_-0.015   1.64165    1.26335\n",
      "PPO_-0.4     1.36809    1.44436\n",
      "MAAC_-0.015  0.669164   2.40663\n",
      "MAAC_-0.4    0.0171918  0.19104\n",
      "Item              Mean       Std\n",
      "-----------  ---------  --------\n",
      "PPO_-0.015   4.51371    1.69321\n",
      "PPO_-0.4     0.564455   1.00194\n",
      "MAAC_-0.015  3.48334    3.98492\n",
      "MAAC_-0.4    0.0145829  0.128755\n",
      "Item               Mean        Std\n",
      "-----------  ----------  ---------\n",
      "PPO_-0.015   0.798107    0.0682543\n",
      "PPO_-0.4     0.805341    0.085025\n",
      "MAAC_-0.015  0.660995    0.301879\n",
      "MAAC_-0.4    0.00134624  0.0186358\n",
      "Item             Mean       Std\n",
      "-----------  --------  --------\n",
      "PPO_-0.015   0.430046  0.147354\n",
      "PPO_-0.4     0.445527  0.160467\n",
      "MAAC_-0.015  0.28214   0.450041\n",
      "MAAC_-0.4    0         0\n"
     ]
    }
   ],
   "source": [
    "table_data = {}\n",
    "\n",
    "field = \"total_steps\"\n",
    "table_data[field] = get_mean_std(all_data, -100, field, alias_plts)\n",
    "\n",
    "field = \"total_agent_collisions\"\n",
    "table_data[field] = get_mean_std(all_data, -100, field, alias_plts)\n",
    "\n",
    "field = \"total_obstacle_collisions\"\n",
    "table_data[field] = get_mean_std(all_data, -100, field, alias_plts)\n",
    "\n",
    "field = \"agent_dones\"\n",
    "table_data[field] = get_mean_std(all_data, -100, field, alias_plts)\n",
    "\n",
    "\n",
    "field = \"all_agents_on_goal\"\n",
    "table_data[field] = get_mean_std(all_data, -100, field, alias_plts)\n",
    "\n"
   ]
  },
  {
   "cell_type": "code",
   "execution_count": 31,
   "metadata": {},
   "outputs": [],
   "source": [
    "where = \"tables/2/indiv_oc.csv\"\n",
    "make_csv(table_data, where)"
   ]
  },
  {
   "cell_type": "markdown",
   "metadata": {},
   "source": [
    "## Agent Collision\n",
    "\n",
    "### NB should have kept oc at the default parameter ... Need to run this experiment again in order to determine effect of agent collisions alone on performace\n",
    "\n",
    "\n",
    "#Note: Increase agent object collision penalty increases performance slightly ... it is not significant\n",
    " #But too large penalty for object collisions negatively affects MAAC. (is this because MAAC does not handle individualized rewards well due its shared critic... But performs better again when goal reached reward is increased\n",
    "\n",
    "# For MAAC best reward structures are either: stepr=0.1 ; ocr = -0.4 acr =-0.4 ; grr=1.0 or stepr=0.1 ; ocr = -0.015 acr =-0.4 ; grr=0.1"
   ]
  },
  {
   "cell_type": "code",
   "execution_count": 5,
   "metadata": {},
   "outputs": [
    {
     "name": "stdout",
     "output_type": "stream",
     "text": [
      "WARNING:tensorflow:From /home/james/anaconda3/envs/gridworld/lib/python3.7/site-packages/tensorflow/python/summary/summary_iterator.py:68: tf_record_iterator (from tensorflow.python.lib.io.tf_record) is deprecated and will be removed in a future version.\n",
      "Instructions for updating:\n",
      "Use eager execution and: \n",
      "`tf.data.TFRecordDataset(path)`\n"
     ]
    }
   ],
   "source": [
    "source = \"/home/james/Desktop/Gridworld/CENTRAL_TENSORBOARD/merged_reward\"\n",
    "all_data = get_event_data(source, False)"
   ]
  },
  {
   "cell_type": "code",
   "execution_count": 6,
   "metadata": {},
   "outputs": [],
   "source": [
    "alias_plts = {}\n",
    "\n",
    "alias_plts[\"2A2_ppo_arc_primal6_sr_-0.1_ocr_-0.4_acr_-0.4_grr_0.1_fer_0.0_disc_0.5_lambda_1.0_entropy_0.01_minibatch_512_rollouts_256_workers_4_kepochs_8_envsize_5_nagents_4_objdensity_0.2_seed_1\"] = \"PPO_-0.4\"\n",
    "alias_plts[\"2A2_ppo_arc_primal6_sr_-0.1_ocr_-0.4_acr_-1.0_grr_0.1_fer_0.0_disc_0.5_lambda_1.0_entropy_0.01_minibatch_512_rollouts_256_workers_4_kepochs_8_envsize_5_nagents_4_objdensity_0.2_seed_1\"] = \"PPO_-1.0\"\n",
    "\n",
    "alias_plts[\"2A2_maac_indivr_arc_primal6_sr_-0.1_ocr_-0.02_acr_-0.2_grr_0.3_fer_0.0_disc_0.9_rewardscale_10_minibatch_1024_nupdates_100_attheads_4_envsize_5_nagents_4_objdensity_0.2_seed_1\"] = \"MAAC_-0.2\"\n",
    "alias_plts[\"2A2_maac_indivr_arc_primal6_sr_-0.1_ocr_-0.02_acr_-0.4_grr_0.3_fer_0.0_disc_0.9_rewardscale_10_minibatch_1024_nupdates_100_attheads_4_envsize_5_nagents_4_objdensity_0.2_seed_1\"] = \"MAAC_-0.4\""
   ]
  },
  {
   "cell_type": "code",
   "execution_count": 7,
   "metadata": {},
   "outputs": [
    {
     "name": "stdout",
     "output_type": "stream",
     "text": [
      "Item          Mean      Std\n",
      "---------  -------  -------\n",
      "PPO_-0.4   18.5902  2.95923\n",
      "PPO_-1.0   19.3841  3.00069\n",
      "MAAC_-0.2  19.2604  9.17821\n",
      "MAAC_-0.4  19.8023  8.96245\n",
      "Item           Mean      Std\n",
      "---------  --------  -------\n",
      "PPO_-0.4   1.36809   1.44436\n",
      "PPO_-1.0   0.922418  1.31602\n",
      "MAAC_-0.2  2.05407   5.03493\n",
      "MAAC_-0.4  1.16168   3.8253\n",
      "Item           Mean      Std\n",
      "---------  --------  -------\n",
      "PPO_-0.4   0.564455  1.00194\n",
      "PPO_-1.0   0.636783  1.09962\n",
      "MAAC_-0.2  3.23177   3.90504\n",
      "MAAC_-0.4  3.30243   3.92389\n",
      "Item           Mean       Std\n",
      "---------  --------  --------\n",
      "PPO_-0.4   0.805341  0.085025\n",
      "PPO_-1.0   0.774122  0.124401\n",
      "MAAC_-0.2  0.765297  0.242559\n",
      "MAAC_-0.4  0.740351  0.260111\n",
      "Item           Mean       Std\n",
      "---------  --------  --------\n",
      "PPO_-0.4   0.445527  0.160467\n",
      "PPO_-1.0   0.403996  0.168784\n",
      "MAAC_-0.2  0.395709  0.489002\n",
      "MAAC_-0.4  0.366617  0.481881\n"
     ]
    }
   ],
   "source": [
    "table_data = {}\n",
    "\n",
    "field = \"total_steps\"\n",
    "table_data[field] = get_mean_std(all_data, -100, field, alias_plts)\n",
    "\n",
    "field = \"total_agent_collisions\"\n",
    "table_data[field] = get_mean_std(all_data, -100, field, alias_plts)\n",
    "\n",
    "field = \"total_obstacle_collisions\"\n",
    "table_data[field] = get_mean_std(all_data, -100, field, alias_plts)\n",
    "\n",
    "field = \"agent_dones\"\n",
    "table_data[field] = get_mean_std(all_data, -100, field, alias_plts)\n",
    "\n",
    "\n",
    "field = \"all_agents_on_goal\"\n",
    "table_data[field] = get_mean_std(all_data, -100, field, alias_plts)"
   ]
  },
  {
   "cell_type": "code",
   "execution_count": 8,
   "metadata": {},
   "outputs": [],
   "source": [
    "where = \"tables/2/indiv_ac.csv\"\n",
    "make_csv(table_data, where)"
   ]
  },
  {
   "cell_type": "markdown",
   "metadata": {},
   "source": [
    "# Goal reached reward"
   ]
  },
  {
   "cell_type": "code",
   "execution_count": 9,
   "metadata": {},
   "outputs": [],
   "source": [
    "source = \"/home/james/Desktop/Gridworld/CENTRAL_TENSORBOARD/2A2\"\n",
    "all_data = get_event_data(source, False)"
   ]
  },
  {
   "cell_type": "code",
   "execution_count": 14,
   "metadata": {},
   "outputs": [],
   "source": [
    "alias_plts = {}\n",
    "\n",
    "alias_plts[\"2A2_ppo_arc_primal6_sr_-0.1_ocr_-0.4_acr_-0.4_grr_0.1_fer_0.0_disc_0.5_lambda_1.0_entropy_0.01_minibatch_512_rollouts_256_workers_4_kepochs_8_envsize_5_nagents_4_objdensity_0.2_seed_1\"] = \"PPO_0.1\"\n",
    "alias_plts[\"2A2_ppo_arc_primal6_sr_-0.1_ocr_-0.4_acr_-0.4_grr_1.0_fer_0.0_disc_0.5_lambda_1.0_entropy_0.01_minibatch_512_rollouts_256_workers_4_kepochs_8_envsize_5_nagents_4_objdensity_0.2_seed_1\"] = \"PPO_1.0\"\n",
    "\n",
    "alias_plts[\"2A2_maac__arc_primal6_sr_-0.1_ocr_-0.4_acr_-0.4_grr_0.1_fer_0.0_disc_0.9_rewardscale_10_minibatch_1024_nupdates_100_attheads_4_envsize_5_nagents_4_objdensity_0.2_seed_1\"] = \"MAAC_0.1\"\n",
    "alias_plts[\"2A2_maac__arc_primal6_sr_-0.1_ocr_-0.4_acr_-0.4_grr_1.0_fer_0.0_disc_0.9_rewardscale_10_minibatch_1024_nupdates_100_attheads_4_envsize_5_nagents_4_objdensity_0.2_seed_1\"] = \"MAAC_1.0\""
   ]
  },
  {
   "cell_type": "code",
   "execution_count": 15,
   "metadata": {},
   "outputs": [
    {
     "name": "stdout",
     "output_type": "stream",
     "text": [
      "Item         Mean      Std\n",
      "--------  -------  -------\n",
      "PPO_0.1   18.5902  2.95923\n",
      "PPO_1.0   16.8775  3.09006\n",
      "MAAC_0.1  26       0\n",
      "MAAC_1.0  20.3703  8.73199\n",
      "Item           Mean      Std\n",
      "--------  ---------  -------\n",
      "PPO_0.1   1.36809    1.44436\n",
      "PPO_1.0   2.32973    2.19809\n",
      "MAAC_0.1  0.0171918  0.19104\n",
      "MAAC_1.0  1.8474     4.66263\n",
      "Item           Mean       Std\n",
      "--------  ---------  --------\n",
      "PPO_0.1   0.564455   1.00194\n",
      "PPO_1.0   0.86581    1.37694\n",
      "MAAC_0.1  0.0145829  0.128755\n",
      "MAAC_1.0  0.835563   1.71372\n",
      "Item            Mean        Std\n",
      "--------  ----------  ---------\n",
      "PPO_0.1   0.805341    0.085025\n",
      "PPO_1.0   0.833872    0.0746795\n",
      "MAAC_0.1  0.00134624  0.0186358\n",
      "MAAC_1.0  0.710371    0.278053\n",
      "Item          Mean       Std\n",
      "--------  --------  --------\n",
      "PPO_0.1   0.445527  0.160467\n",
      "PPO_1.0   0.504497  0.155958\n",
      "MAAC_0.1  0         0\n",
      "MAAC_1.0  0.334326  0.471754\n"
     ]
    }
   ],
   "source": [
    "table_data = {}\n",
    "\n",
    "field = \"total_steps\"\n",
    "table_data[field] = get_mean_std(all_data, -100, field, alias_plts)\n",
    "\n",
    "field = \"total_agent_collisions\"\n",
    "table_data[field] = get_mean_std(all_data, -100, field, alias_plts)\n",
    "\n",
    "field = \"total_obstacle_collisions\"\n",
    "table_data[field] = get_mean_std(all_data, -100, field, alias_plts)\n",
    "\n",
    "field = \"agent_dones\"\n",
    "table_data[field] = get_mean_std(all_data, -100, field, alias_plts)\n",
    "\n",
    "\n",
    "field = \"all_agents_on_goal\"\n",
    "table_data[field] = get_mean_std(all_data, -100, field, alias_plts)"
   ]
  },
  {
   "cell_type": "code",
   "execution_count": 16,
   "metadata": {},
   "outputs": [],
   "source": [
    "where = \"tables/2/indiv_gr.csv\"\n",
    "make_csv(table_data, where)"
   ]
  },
  {
   "cell_type": "markdown",
   "metadata": {},
   "source": [
    "# Mixed rewards:\n",
    "Only the best performing ones plotted:"
   ]
  },
  {
   "cell_type": "code",
   "execution_count": 17,
   "metadata": {},
   "outputs": [],
   "source": [
    "source = \"/home/james/Desktop/Gridworld/CENTRAL_TENSORBOARD/mixedreward_merged\"\n",
    "all_data = get_event_data(source, False)"
   ]
  },
  {
   "cell_type": "code",
   "execution_count": 18,
   "metadata": {},
   "outputs": [],
   "source": [
    "alias_plts = {}\n",
    "\n",
    "alias_plts[\"2A2_ppo_mixedr_arc_primal6_sr_-0.1_ocr_-0.4_acr_-0.4_grr_0.1_fer_2.0_disc_0.5_lambda_1.0_entropy_0.01_minibatch_512_rollouts_256_workers_4_kepochs_8_envsize_5_nagents_4_objdensity_0.2_seed_1_N1\"] = \"PPO\"\n",
    "#alias_plts[\"2A2_ppo_arc_primal6_sr_-0.1_ocr_-0.4_acr_-0.4_grr_1.0_fer_0.0_disc_0.5_lambda_1.0_entropy_0.01_minibatch_512_rollouts_256_workers_4_kepochs_8_envsize_5_nagents_4_objdensity_0.2_seed_1\"] = \"PPO_1.0\"\n",
    "\n",
    "alias_plts[\"2A2_maac_mixedr_arc_primal6_sr_-0.1_ocr_-0.02_acr_-0.2_grr_0.3_fer_2.0_disc_0.9_rewardscale_10_minibatch_1024_nupdates_100_attheads_4_envsize_5_nagents_4_objdensity_0.2_seed_1\"] = \"MAAC\"\n",
    "#alias_plts[\"2A2_maac__arc_primal6_sr_-0.1_ocr_-0.4_acr_-0.4_grr_1.0_fer_0.0_disc_0.9_rewardscale_10_minibatch_1024_nupdates_100_attheads_4_envsize_5_nagents_4_objdensity_0.2_seed_1\"] = \"MAAC_1.0\""
   ]
  },
  {
   "cell_type": "code",
   "execution_count": 19,
   "metadata": {},
   "outputs": [
    {
     "name": "stdout",
     "output_type": "stream",
     "text": [
      "Item       Mean      Std\n",
      "------  -------  -------\n",
      "PPO     15.52    2.8316\n",
      "MAAC    18.8457  9.26658\n",
      "Item       Mean      Std\n",
      "------  -------  -------\n",
      "PPO     1.17215  1.29295\n",
      "MAAC    3.32332  5.80171\n",
      "Item        Mean       Std\n",
      "------  --------  --------\n",
      "PPO     0.359124  0.626648\n",
      "MAAC    3.67971   4.22419\n",
      "Item        Mean        Std\n",
      "------  --------  ---------\n",
      "PPO     0.860444  0.0649804\n",
      "MAAC    0.767239  0.24801\n",
      "Item        Mean       Std\n",
      "------  --------  --------\n",
      "PPO     0.576065  0.140006\n",
      "MAAC    0.418283  0.493277\n"
     ]
    }
   ],
   "source": [
    "table_data = {}\n",
    "\n",
    "field = \"total_steps\"\n",
    "table_data[field] = get_mean_std(all_data, -100, field, alias_plts)\n",
    "\n",
    "field = \"total_agent_collisions\"\n",
    "table_data[field] = get_mean_std(all_data, -100, field, alias_plts)\n",
    "\n",
    "field = \"total_obstacle_collisions\"\n",
    "table_data[field] = get_mean_std(all_data, -100, field, alias_plts)\n",
    "\n",
    "field = \"agent_dones\"\n",
    "table_data[field] = get_mean_std(all_data, -100, field, alias_plts)\n",
    "\n",
    "\n",
    "field = \"all_agents_on_goal\"\n",
    "table_data[field] = get_mean_std(all_data, -100, field, alias_plts)"
   ]
  },
  {
   "cell_type": "code",
   "execution_count": 20,
   "metadata": {},
   "outputs": [],
   "source": [
    "where = \"tables/2/mixedr.csv\"\n",
    "make_csv(table_data, where)"
   ]
  },
  {
   "cell_type": "code",
   "execution_count": null,
   "metadata": {},
   "outputs": [],
   "source": []
  },
  {
   "cell_type": "code",
   "execution_count": 5,
   "metadata": {},
   "outputs": [],
   "source": [
    "def scatter_errorbars_old(ax_tuple, data, plt_xvalue_dict, fields_title_dict, last_data = 100):\n",
    "    assert len(ax_tuple) == len(fields_title_dict)\n",
    "    all_ax = []\n",
    "    for ax, field, title in zip(ax_tuple, fields_title_dict.keys(), fields_title_dict.values()):\n",
    "        all_ax.append(ax)\n",
    "        x_vals = []\n",
    "        y_vals = []\n",
    "        y_err = []\n",
    "        for plt_name, x_val in plt_xvalue_dict.items():\n",
    "            keys_alias_dict = {}\n",
    "            keys_alias_dict[plt_name] = plt_name #str(x_val)\n",
    "            result = get_mean_std(data, last_data, field, keys_alias_dict,print_ = False, no_table = True)\n",
    "            (m, std) = result[plt_name]\n",
    "            x_vals.append(x_val)\n",
    "            y_vals.append(m)\n",
    "            y_err.append(std)\n",
    "        ax.errorbar(x_vals,y_vals, yerr = y_err,fmt = 's', ms = 5,\\\n",
    "                    capsize = 8.0, capthick = 0.5, ecolor = 'k')\n",
    "        ax.set_title(title, fontsize = 15) \n",
    "    return all_ax"
   ]
  },
  {
   "cell_type": "code",
   "execution_count": 81,
   "metadata": {},
   "outputs": [],
   "source": [
    "# from tabulate import tabulate\n",
    "#with discarding of data added\n",
    "def get_mean_std2(data, last_data, field, keys_alias_dict = None, print_ = True, no_table = False, discard = 0.1, mode = 'mean'):\n",
    "    '''Returns a table of mean std of data.\n",
    "    keys_alias_dict can specify the keys in data to be\n",
    "    plotted. The value item can specify an alias term, or\n",
    "    be none to use the key as data label.'''\n",
    "    assert last_data > -1\n",
    "    def discard_data(dat, percent):\n",
    "        dat = np.sort(dat)\n",
    "        #print(\"Sorted original data: {}\".format(dat))\n",
    "        len_dat = len(dat)\n",
    "        lower = int(np.floor(percent*len_dat))\n",
    "        #print(\"lower_index: {}  Lower bound value: {}\".format(lower, dat[lower]))\n",
    "        upper = int(np.ceil((1-percent)*len_dat)) - 1\n",
    "        #print(\"upper_index: {}  upper bound value: {}\".format(upper, dat[upper]))\n",
    "        return dat[lower:upper], dat[lower], dat[upper]\n",
    "        \n",
    "    csv_records = []\n",
    "    #sep = \",\"\n",
    "    #end_char = \"\\n\"\n",
    "    table = []\n",
    "    hdrs = [\"Item\", \"Mean\", \"Lower\", \"Upper\"]\n",
    "    no_table_dict = {}\n",
    "    if keys_alias_dict is None:\n",
    "        for k,v in data.items():\n",
    "            new_d = np.array(v[field][-last_data:])\n",
    "            new_d, lower, upper = discard_data(new_d, discard)\n",
    "            \n",
    "            m = new_d.mean()\n",
    "            #std = new_d.std()\n",
    "            hldr = [k,m,lower, upper]\n",
    "            if no_table:\n",
    "                no_table_dict[ak] = (m,lower, upper)\n",
    "            table.append(hldr)\n",
    "            csv_records.append(hldr)\n",
    "    else:\n",
    "        for k, ak in keys_alias_dict.items():\n",
    "            new_d = np.array(data[k][field][-last_data:])\n",
    "           # print(\"length newd is: {} Should be: {}\".format(len(new_d), last_data))\n",
    "            new_d, lower, upper = discard_data(new_d, discard)\n",
    "            if mode == 'mean':\n",
    "                m = new_d.mean()\n",
    "            elif mode == 'median':\n",
    "                m = np.median(new_d)\n",
    "            else:\n",
    "                raise NotImplementedError\n",
    "            #std = new_d.std()\n",
    "            if ak is None:\n",
    "                ak = k\n",
    "            hldr = [ak,m,lower, upper]\n",
    "            if no_table:\n",
    "                no_table_dict[ak] = (m,lower, upper)\n",
    "            table.append(hldr)\n",
    "            csv_records.append(hldr)\n",
    "\n",
    "    if print_:\n",
    "        print(tabulate(table, headers = hdrs))\n",
    "        \n",
    "    if no_table:\n",
    "        return no_table_dict\n",
    "    else:\n",
    "        return csv_records\n",
    "    \n",
    "def scatter_errorbars2(ax_tuple, data, plt_xvalue_dict, fields_title_dict, last_data = 100, discard = 0.1, mode = 'mean', use_log2 = False):\n",
    "    '''Discards the upper and lower discard% of data. '''\n",
    "    assert len(ax_tuple) == len(fields_title_dict)\n",
    "    all_ax = {}\n",
    "    for i, (field, title) in enumerate(zip(fields_title_dict.keys(), fields_title_dict.values())):\n",
    "        if type(ax_tuple) == np.ndarray or type(ax_tuple) == list:\n",
    "            ax = ax_tuple[i]\n",
    "        elif type(ax_tuple) == dict:\n",
    "            ax = ax_tuple[title]\n",
    "        else:\n",
    "            print(ax_tuple)\n",
    "            print(type(ax_tuple))\n",
    "            raise Exception(\"Invalid ax input\")\n",
    "        x_vals = []\n",
    "        y_vals = []\n",
    "        y_err_upper = []\n",
    "        y_err_lower = []\n",
    "        for plt_name, x_val in plt_xvalue_dict.items():\n",
    "            keys_alias_dict = {}\n",
    "            keys_alias_dict[plt_name] = plt_name #str(x_val)\n",
    "            result = get_mean_std2(data, last_data, field, keys_alias_dict,print_ = False, no_table = True, discard = discard, mode = mode)\n",
    "            (m, lower, upper) = result[plt_name]\n",
    "            y_err_upper.append(np.abs(upper-m))\n",
    "            y_err_lower.append(np.abs(m-lower))\n",
    "            x_vals.append(x_val)\n",
    "            y_vals.append(m)\n",
    "#             y_err.append(std)\n",
    "        y_err = np.array([y_err_lower, y_err_upper])\n",
    "        if use_log2:\n",
    "#             ax.set_xscale(\"log\", base = 2)\n",
    "            ax.set_xscale('log', basex=2)\n",
    "        ax.errorbar(x_vals,y_vals, yerr = y_err,fmt = 's', ms = 5,\\\n",
    "                    capsize = 8.0, capthick = 0.5, ecolor = 'k')\n",
    "        ax.set_title(title, fontsize = 15)\n",
    "        all_ax[title] = ax\n",
    "    return all_ax"
   ]
  },
  {
   "cell_type": "code",
   "execution_count": 82,
   "metadata": {},
   "outputs": [],
   "source": [
    "def temp_plt(all_data, marker, dat_filter_terms, fields_titles, last_data = 500, discard = 0.1, mode = 'mean', use_log2 = False, custom_ax_fig = None):\n",
    "    data_filter_term = dat_filter_terms #[\"primal6\"]\n",
    "    \n",
    "    filtered_data = filter(all_data, data_filter_term)\n",
    "\n",
    "    #make plt_xvals\n",
    "    #marker = \"nagents\"\n",
    "    plt_xvals = {}\n",
    "    for k in filtered_data.keys():\n",
    "        split_terms = k.split(\"_\")\n",
    "        ind = split_terms.index(marker)\n",
    "        x_val = float(split_terms[ind+1])\n",
    "        plt_xvals[k] = x_val\n",
    "    \n",
    "    n_subplots = len(fields_titles)\n",
    "    if custom_ax_fig is not None:\n",
    "        assert type(custom_ax_fig) == tuple\n",
    "        (fig, all_ax) = custom_ax_fig\n",
    "    else:\n",
    "        fig, all_ax = plt.subplots(1,n_subplots, figsize=(n_subplots*3.3,4))\n",
    "\n",
    "    all_ax_return = scatter_errorbars2(all_ax, filtered_data, plt_xvals, \\\n",
    "                    fields_titles, last_data = last_data, discard = discard \\\n",
    "                    ,mode=mode, use_log2 = use_log2)\n",
    "\n",
    "    fig.tight_layout()\n",
    "    return fig, all_ax_return"
   ]
  },
  {
   "cell_type": "code",
   "execution_count": null,
   "metadata": {},
   "outputs": [],
   "source": []
  },
  {
   "cell_type": "markdown",
   "metadata": {},
   "source": [
    "# Algorithm Comparison in different environments"
   ]
  },
  {
   "cell_type": "markdown",
   "metadata": {},
   "source": [
    "# 4_1  "
   ]
  },
  {
   "cell_type": "code",
   "execution_count": 72,
   "metadata": {},
   "outputs": [
    {
     "name": "stdout",
     "output_type": "stream",
     "text": [
      "<class 'numpy.ndarray'>\n",
      "sdsd\n"
     ]
    }
   ],
   "source": [
    "a = np.array([1,2,3])\n",
    "print(type(a))\n",
    "if type(a) == np.ndarray:\n",
    "    print(\"sdsd\")"
   ]
  },
  {
   "cell_type": "code",
   "execution_count": 8,
   "metadata": {},
   "outputs": [
    {
     "name": "stdout",
     "output_type": "stream",
     "text": [
      "WARNING:tensorflow:From /home/james/anaconda3/envs/gridworld/lib/python3.7/site-packages/tensorflow/python/summary/summary_iterator.py:68: tf_record_iterator (from tensorflow.python.lib.io.tf_record) is deprecated and will be removed in a future version.\n",
      "Instructions for updating:\n",
      "Use eager execution and: \n",
      "`tf.data.TFRecordDataset(path)`\n"
     ]
    }
   ],
   "source": [
    "source = \"/home/james/Desktop/Gridworld/CENTRAL_TENSORBOARD/4_1\"\n",
    "all_data = get_event_data(source, False)"
   ]
  },
  {
   "cell_type": "code",
   "execution_count": 9,
   "metadata": {},
   "outputs": [],
   "source": [
    "fields_titles = {\n",
    "    \"total_steps\": \"Episode Length\",\n",
    "    #\"total_agent_collisions\": \"Agent Collisions\",\n",
    "    \"total_obstacle_collisions\": \"Obstacle Collsions\",\n",
    "    \"agent_dones\": \"Per Agent Success Rate\",\n",
    "    #\"all_agents_on_goal\": \"Task Success Rate\"\n",
    "}\n"
   ]
  },
  {
   "cell_type": "markdown",
   "metadata": {},
   "source": [
    "## 5x5"
   ]
  },
  {
   "cell_type": "code",
   "execution_count": 11,
   "metadata": {},
   "outputs": [
    {
     "data": {
      "image/png": "[encoded data removed]",
      "text/plain": [
       "<Figure size 712.8x288 with 3 Axes>"
      ]
     },
     "metadata": {},
     "output_type": "display_data"
    }
   ],
   "source": [
    "marker = \"objdensity\"\n",
    "dat_filter_terms = [\"primal6\"]\n",
    "fig = temp_plt(all_data, marker, dat_filter_terms, fields_titles, last_data = 500, discard = 0.1, mode = 'mean')"
   ]
  },
  {
   "cell_type": "code",
   "execution_count": 12,
   "metadata": {},
   "outputs": [],
   "source": [
    "save_as = \"plots/4/ppo_4_1_5x5.png\" \n",
    "fig.savefig(make_exist(save_as))"
   ]
  },
  {
   "cell_type": "markdown",
   "metadata": {},
   "source": [
    "# 7x7"
   ]
  },
  {
   "cell_type": "code",
   "execution_count": 14,
   "metadata": {},
   "outputs": [
    {
     "data": {
      "image/png": "[encoded data removed]",
      "text/plain": [
       "<Figure size 712.8x288 with 3 Axes>"
      ]
     },
     "metadata": {},
     "output_type": "display_data"
    }
   ],
   "source": [
    "marker = \"objdensity\"\n",
    "dat_filter_terms = [\"primal7\"]\n",
    "fig = temp_plt(all_data, marker, dat_filter_terms, fields_titles, last_data = 500, discard = 0.1, mode = 'mean')"
   ]
  },
  {
   "cell_type": "code",
   "execution_count": 15,
   "metadata": {},
   "outputs": [],
   "source": [
    "save_as = \"plots/4/ppo_4_1_7x7.png\" \n",
    "fig.savefig(make_exist(save_as))"
   ]
  },
  {
   "cell_type": "markdown",
   "metadata": {},
   "source": [
    "# 4.2 : Number of agents"
   ]
  },
  {
   "cell_type": "code",
   "execution_count": 17,
   "metadata": {},
   "outputs": [],
   "source": [
    "source = \"/home/james/Desktop/Gridworld/CENTRAL_TENSORBOARD/4_2\"\n",
    "all_data = get_event_data(source, False)"
   ]
  },
  {
   "cell_type": "code",
   "execution_count": 18,
   "metadata": {},
   "outputs": [],
   "source": [
    "fields_titles = {\n",
    "    \"total_steps\": \"Episode Length\",\n",
    "    \"total_agent_collisions\": \"Agent Collisions\",\n",
    "    #\"total_obstacle_collisions\": \"Obstacle Collsions\",\n",
    "    \"agent_dones\": \"Per Agent Success Rate\",\n",
    "    \"all_agents_on_goal\": \"Task Success Rate\"\n",
    "}\n"
   ]
  },
  {
   "cell_type": "markdown",
   "metadata": {},
   "source": [
    "# MAAC 5x5"
   ]
  },
  {
   "cell_type": "code",
   "execution_count": 42,
   "metadata": {},
   "outputs": [
    {
     "data": {
      "image/png": "[encoded data removed]",
      "text/plain": [
       "<Figure size 950.4x288 with 4 Axes>"
      ]
     },
     "metadata": {},
     "output_type": "display_data"
    }
   ],
   "source": [
    "marker = \"nagents\"\n",
    "dat_filter_terms = [\"maac\",\"primal6\"]\n",
    "fig = temp_plt(all_data, marker, dat_filter_terms, fields_titles, last_data = 200, discard = 0.1, mode='mean', use_log2 = True)"
   ]
  },
  {
   "cell_type": "code",
   "execution_count": 43,
   "metadata": {},
   "outputs": [],
   "source": [
    "save_as = \"plots/4/maac_4_2_5x5_inc_agents.png\" \n",
    "fig.savefig(make_exist(save_as))"
   ]
  },
  {
   "cell_type": "markdown",
   "metadata": {},
   "source": [
    "# MAAC 7x7"
   ]
  },
  {
   "cell_type": "code",
   "execution_count": 44,
   "metadata": {},
   "outputs": [
    {
     "data": {
      "image/png": "[encoded data removed]",
      "text/plain": [
       "<Figure size 950.4x288 with 4 Axes>"
      ]
     },
     "metadata": {},
     "output_type": "display_data"
    }
   ],
   "source": [
    "marker = \"nagents\"\n",
    "dat_filter_terms = [\"maac\",\"primal7\"]\n",
    "fig = temp_plt(all_data, marker, dat_filter_terms, fields_titles, last_data = 200, discard = 0.1, mode='mean', use_log2 = True)"
   ]
  },
  {
   "cell_type": "code",
   "execution_count": null,
   "metadata": {},
   "outputs": [],
   "source": [
    "save_as = \"plots/4/maac_4_2_7x7_inc_agents.png\" \n",
    "fig.savefig(make_exist(save_as))"
   ]
  },
  {
   "cell_type": "markdown",
   "metadata": {},
   "source": [
    "# PPO 5x5"
   ]
  },
  {
   "cell_type": "code",
   "execution_count": 45,
   "metadata": {},
   "outputs": [
    {
     "data": {
      "image/png": "[encoded data removed]",
      "text/plain": [
       "<Figure size 950.4x288 with 4 Axes>"
      ]
     },
     "metadata": {},
     "output_type": "display_data"
    }
   ],
   "source": [
    "marker = \"nagents\"\n",
    "dat_filter_terms = [\"ppo41\",\"primal6\"]\n",
    "fig = temp_plt(all_data, marker, dat_filter_terms, fields_titles, last_data = 200, discard = 0.1, mode='mean', use_log2 = True)"
   ]
  },
  {
   "cell_type": "code",
   "execution_count": 83,
   "metadata": {},
   "outputs": [
    {
     "name": "stdout",
     "output_type": "stream",
     "text": [
      "dfgdfg\n"
     ]
    },
    {
     "data": {
      "image/png": "[encoded data removed]",
      "text/plain": [
       "<Figure size 950.4x288 with 4 Axes>"
      ]
     },
     "metadata": {},
     "output_type": "display_data"
    }
   ],
   "source": [
    "marker = \"nagents\"\n",
    "dat_filter_terms1 = [\"ppo41\",\"primal6\"]\n",
    "fig, all_ax = temp_plt(all_data, marker, dat_filter_terms, fields_titles, last_data = 200, discard = 0.1, mode='mean', use_log2 = True)\n",
    "dat_filter_terms1 = [\"maac\",\"primal6\"]\n",
    "print(\"dfgdfg\")\n",
    "fig, all_ax = temp_plt(all_data, marker, dat_filter_terms, fields_titles, last_data = 200, discard = 0.1, mode='mean', use_log2 = True,custom_ax_fig = (fig,all_ax))"
   ]
  },
  {
   "cell_type": "code",
   "execution_count": null,
   "metadata": {},
   "outputs": [],
   "source": []
  },
  {
   "cell_type": "code",
   "execution_count": null,
   "metadata": {},
   "outputs": [],
   "source": []
  },
  {
   "cell_type": "code",
   "execution_count": null,
   "metadata": {},
   "outputs": [],
   "source": []
  },
  {
   "cell_type": "code",
   "execution_count": null,
   "metadata": {},
   "outputs": [],
   "source": [
    "# data_filter_term = [\"primal6\"]\n",
    "# filtered_data = filter(all_data, data_filter_term)\n",
    "\n",
    "# #make plt_xvals\n",
    "# marker = \"nagents\"\n",
    "# plt_xvals = {}\n",
    "# for k in filtered_data.keys():\n",
    "#     split_terms = k.split(\"_\")\n",
    "#     ind = split_terms.index(marker)\n",
    "#     x_val = float(split_terms[ind+1])\n",
    "#     plt_xvals[k] = x_val\n",
    "\n",
    "    "
   ]
  },
  {
   "cell_type": "code",
   "execution_count": null,
   "metadata": {},
   "outputs": [],
   "source": [
    "# n_subplots = len(fields_titles)\n",
    "# fig, all_ax = plt.subplots(1,n_subplots, figsize=(n_subplots*3.3,4))\n",
    "\n",
    "# all_ax_return = scatter_errorbars(all_ax, filtered_data, plt_xvals, fields_titles, last_data = -500)\n",
    "\n",
    "# fig.tight_layout()"
   ]
  },
  {
   "cell_type": "code",
   "execution_count": 19,
   "metadata": {},
   "outputs": [],
   "source": [
    "# marker = \"nagents\"\n",
    "# dat_filter_terms = [\"maac\",\"primal6\"]\n",
    "# fig = temp_plt(all_data, marker, dat_filter_terms, fields_titles, last_data = 200, discard = 0.1, mode='median')"
   ]
  },
  {
   "cell_type": "code",
   "execution_count": 20,
   "metadata": {},
   "outputs": [],
   "source": [
    "# marker = \"nagents\"\n",
    "# dat_filter_terms = [\"maac\",\"primal6\"]\n",
    "# fig = temp_plt(all_data, marker, dat_filter_terms, fields_titles, last_data = 200, discard = 0.1, mode='mean')"
   ]
  },
  {
   "cell_type": "code",
   "execution_count": 38,
   "metadata": {},
   "outputs": [
    {
     "ename": "TypeError",
     "evalue": "LogScale got an unexpected keyword argument 'base'",
     "output_type": "error",
     "traceback": [
      "\u001b[0;31m---------------------------------------------------------------------------\u001b[0m",
      "\u001b[0;31mTypeError\u001b[0m                                 Traceback (most recent call last)",
      "\u001b[0;32m<ipython-input-38-f71a00317782>\u001b[0m in \u001b[0;36m<module>\u001b[0;34m\u001b[0m\n\u001b[1;32m     20\u001b[0m \u001b[0;31m# log x and y axis\u001b[0m\u001b[0;34m\u001b[0m\u001b[0;34m\u001b[0m\u001b[0;34m\u001b[0m\u001b[0m\n\u001b[1;32m     21\u001b[0m \u001b[0max3\u001b[0m\u001b[0;34m.\u001b[0m\u001b[0mloglog\u001b[0m\u001b[0;34m(\u001b[0m\u001b[0mt\u001b[0m\u001b[0;34m,\u001b[0m \u001b[0;36m20\u001b[0m \u001b[0;34m*\u001b[0m \u001b[0mnp\u001b[0m\u001b[0;34m.\u001b[0m\u001b[0mexp\u001b[0m\u001b[0;34m(\u001b[0m\u001b[0;34m-\u001b[0m\u001b[0mt\u001b[0m \u001b[0;34m/\u001b[0m \u001b[0;36m10.0\u001b[0m\u001b[0;34m)\u001b[0m\u001b[0;34m)\u001b[0m\u001b[0;34m\u001b[0m\u001b[0;34m\u001b[0m\u001b[0m\n\u001b[0;32m---> 22\u001b[0;31m \u001b[0max3\u001b[0m\u001b[0;34m.\u001b[0m\u001b[0mset_xscale\u001b[0m\u001b[0;34m(\u001b[0m\u001b[0;34m'log'\u001b[0m\u001b[0;34m,\u001b[0m \u001b[0mbase\u001b[0m\u001b[0;34m=\u001b[0m\u001b[0;36m2\u001b[0m\u001b[0;34m)\u001b[0m\u001b[0;34m\u001b[0m\u001b[0;34m\u001b[0m\u001b[0m\n\u001b[0m\u001b[1;32m     23\u001b[0m \u001b[0max3\u001b[0m\u001b[0;34m.\u001b[0m\u001b[0mset\u001b[0m\u001b[0;34m(\u001b[0m\u001b[0mtitle\u001b[0m\u001b[0;34m=\u001b[0m\u001b[0;34m'loglog base 2 on x'\u001b[0m\u001b[0;34m)\u001b[0m\u001b[0;34m\u001b[0m\u001b[0;34m\u001b[0m\u001b[0m\n\u001b[1;32m     24\u001b[0m \u001b[0max3\u001b[0m\u001b[0;34m.\u001b[0m\u001b[0mgrid\u001b[0m\u001b[0;34m(\u001b[0m\u001b[0;34m)\u001b[0m\u001b[0;34m\u001b[0m\u001b[0;34m\u001b[0m\u001b[0m\n",
      "\u001b[0;32m~/anaconda3/envs/gridworld/lib/python3.7/site-packages/matplotlib/axes/_base.py\u001b[0m in \u001b[0;36mset_xscale\u001b[0;34m(self, value, **kwargs)\u001b[0m\n\u001b[1;32m   3278\u001b[0m         \u001b[0mg\u001b[0m \u001b[0;34m=\u001b[0m \u001b[0mself\u001b[0m\u001b[0;34m.\u001b[0m\u001b[0mget_shared_x_axes\u001b[0m\u001b[0;34m(\u001b[0m\u001b[0;34m)\u001b[0m\u001b[0;34m\u001b[0m\u001b[0;34m\u001b[0m\u001b[0m\n\u001b[1;32m   3279\u001b[0m         \u001b[0;32mfor\u001b[0m \u001b[0max\u001b[0m \u001b[0;32min\u001b[0m \u001b[0mg\u001b[0m\u001b[0;34m.\u001b[0m\u001b[0mget_siblings\u001b[0m\u001b[0;34m(\u001b[0m\u001b[0mself\u001b[0m\u001b[0;34m)\u001b[0m\u001b[0;34m:\u001b[0m\u001b[0;34m\u001b[0m\u001b[0;34m\u001b[0m\u001b[0m\n\u001b[0;32m-> 3280\u001b[0;31m             \u001b[0max\u001b[0m\u001b[0;34m.\u001b[0m\u001b[0mxaxis\u001b[0m\u001b[0;34m.\u001b[0m\u001b[0m_set_scale\u001b[0m\u001b[0;34m(\u001b[0m\u001b[0mvalue\u001b[0m\u001b[0;34m,\u001b[0m \u001b[0;34m**\u001b[0m\u001b[0mkwargs\u001b[0m\u001b[0;34m)\u001b[0m\u001b[0;34m\u001b[0m\u001b[0;34m\u001b[0m\u001b[0m\n\u001b[0m\u001b[1;32m   3281\u001b[0m             \u001b[0max\u001b[0m\u001b[0;34m.\u001b[0m\u001b[0m_update_transScale\u001b[0m\u001b[0;34m(\u001b[0m\u001b[0;34m)\u001b[0m\u001b[0;34m\u001b[0m\u001b[0;34m\u001b[0m\u001b[0m\n\u001b[1;32m   3282\u001b[0m             \u001b[0max\u001b[0m\u001b[0;34m.\u001b[0m\u001b[0mstale\u001b[0m \u001b[0;34m=\u001b[0m \u001b[0;32mTrue\u001b[0m\u001b[0;34m\u001b[0m\u001b[0;34m\u001b[0m\u001b[0m\n",
      "\u001b[0;32m~/anaconda3/envs/gridworld/lib/python3.7/site-packages/matplotlib/axis.py\u001b[0m in \u001b[0;36m_set_scale\u001b[0;34m(self, value, **kwargs)\u001b[0m\n\u001b[1;32m    824\u001b[0m \u001b[0;34m\u001b[0m\u001b[0m\n\u001b[1;32m    825\u001b[0m     \u001b[0;32mdef\u001b[0m \u001b[0m_set_scale\u001b[0m\u001b[0;34m(\u001b[0m\u001b[0mself\u001b[0m\u001b[0;34m,\u001b[0m \u001b[0mvalue\u001b[0m\u001b[0;34m,\u001b[0m \u001b[0;34m**\u001b[0m\u001b[0mkwargs\u001b[0m\u001b[0;34m)\u001b[0m\u001b[0;34m:\u001b[0m\u001b[0;34m\u001b[0m\u001b[0;34m\u001b[0m\u001b[0m\n\u001b[0;32m--> 826\u001b[0;31m         \u001b[0mself\u001b[0m\u001b[0;34m.\u001b[0m\u001b[0m_scale\u001b[0m \u001b[0;34m=\u001b[0m \u001b[0mmscale\u001b[0m\u001b[0;34m.\u001b[0m\u001b[0mscale_factory\u001b[0m\u001b[0;34m(\u001b[0m\u001b[0mvalue\u001b[0m\u001b[0;34m,\u001b[0m \u001b[0mself\u001b[0m\u001b[0;34m,\u001b[0m \u001b[0;34m**\u001b[0m\u001b[0mkwargs\u001b[0m\u001b[0;34m)\u001b[0m\u001b[0;34m\u001b[0m\u001b[0;34m\u001b[0m\u001b[0m\n\u001b[0m\u001b[1;32m    827\u001b[0m         \u001b[0mself\u001b[0m\u001b[0;34m.\u001b[0m\u001b[0m_scale\u001b[0m\u001b[0;34m.\u001b[0m\u001b[0mset_default_locators_and_formatters\u001b[0m\u001b[0;34m(\u001b[0m\u001b[0mself\u001b[0m\u001b[0;34m)\u001b[0m\u001b[0;34m\u001b[0m\u001b[0;34m\u001b[0m\u001b[0m\n\u001b[1;32m    828\u001b[0m \u001b[0;34m\u001b[0m\u001b[0m\n",
      "\u001b[0;32m~/anaconda3/envs/gridworld/lib/python3.7/site-packages/matplotlib/scale.py\u001b[0m in \u001b[0;36mscale_factory\u001b[0;34m(scale, axis, **kwargs)\u001b[0m\n\u001b[1;32m    727\u001b[0m     \u001b[0mscale\u001b[0m \u001b[0;34m=\u001b[0m \u001b[0mscale\u001b[0m\u001b[0;34m.\u001b[0m\u001b[0mlower\u001b[0m\u001b[0;34m(\u001b[0m\u001b[0;34m)\u001b[0m\u001b[0;34m\u001b[0m\u001b[0;34m\u001b[0m\u001b[0m\n\u001b[1;32m    728\u001b[0m     \u001b[0mcbook\u001b[0m\u001b[0;34m.\u001b[0m\u001b[0m_check_in_list\u001b[0m\u001b[0;34m(\u001b[0m\u001b[0m_scale_mapping\u001b[0m\u001b[0;34m,\u001b[0m \u001b[0mscale\u001b[0m\u001b[0;34m=\u001b[0m\u001b[0mscale\u001b[0m\u001b[0;34m)\u001b[0m\u001b[0;34m\u001b[0m\u001b[0;34m\u001b[0m\u001b[0m\n\u001b[0;32m--> 729\u001b[0;31m     \u001b[0;32mreturn\u001b[0m \u001b[0m_scale_mapping\u001b[0m\u001b[0;34m[\u001b[0m\u001b[0mscale\u001b[0m\u001b[0;34m]\u001b[0m\u001b[0;34m(\u001b[0m\u001b[0maxis\u001b[0m\u001b[0;34m,\u001b[0m \u001b[0;34m**\u001b[0m\u001b[0mkwargs\u001b[0m\u001b[0;34m)\u001b[0m\u001b[0;34m\u001b[0m\u001b[0;34m\u001b[0m\u001b[0m\n\u001b[0m\u001b[1;32m    730\u001b[0m \u001b[0;34m\u001b[0m\u001b[0m\n\u001b[1;32m    731\u001b[0m \u001b[0;34m\u001b[0m\u001b[0m\n",
      "\u001b[0;32m~/anaconda3/envs/gridworld/lib/python3.7/site-packages/matplotlib/scale.py\u001b[0m in \u001b[0;36m__init__\u001b[0;34m(self, axis, **kwargs)\u001b[0m\n\u001b[1;32m    377\u001b[0m \u001b[0;34m\u001b[0m\u001b[0m\n\u001b[1;32m    378\u001b[0m         \u001b[0;32mif\u001b[0m \u001b[0mkwargs\u001b[0m\u001b[0;34m:\u001b[0m\u001b[0;34m\u001b[0m\u001b[0;34m\u001b[0m\u001b[0m\n\u001b[0;32m--> 379\u001b[0;31m             raise TypeError(f\"LogScale got an unexpected keyword \"\n\u001b[0m\u001b[1;32m    380\u001b[0m                             f\"argument {next(iter(kwargs))!r}\")\n\u001b[1;32m    381\u001b[0m \u001b[0;34m\u001b[0m\u001b[0m\n",
      "\u001b[0;31mTypeError\u001b[0m: LogScale got an unexpected keyword argument 'base'"
     ]
    },
    {
     "data": {
      "image/png": "[encoded data removed]",
      "text/plain": [
       "<Figure size 432x288 with 4 Axes>"
      ]
     },
     "metadata": {},
     "output_type": "display_data"
    }
   ],
   "source": [
    "import numpy as np\n",
    "import matplotlib.pyplot as plt\n",
    "\n",
    "# Data for plotting\n",
    "t = np.arange(0.01, 20.0, 0.01)\n",
    "\n",
    "# Create figure\n",
    "fig, ((ax1, ax2), (ax3, ax4)) = plt.subplots(2, 2)\n",
    "\n",
    "# log y axis\n",
    "ax1.semilogy(t, np.exp(-t / 5.0))\n",
    "ax1.set(title='semilogy')\n",
    "ax1.grid()\n",
    "\n",
    "# log x axis\n",
    "ax2.semilogx(t, np.sin(2 * np.pi * t))\n",
    "ax2.set(title='semilogx')\n",
    "ax2.grid()\n",
    "\n",
    "# log x and y axis\n",
    "ax3.loglog(t, 20 * np.exp(-t / 10.0))\n",
    "ax3.set_xscale('log', base=2)\n",
    "ax3.set(title='loglog base 2 on x')\n",
    "ax3.grid()\n",
    "\n",
    "# With errorbars: clip non-positive values\n",
    "# Use new data for plotting\n",
    "x = 10.0**np.linspace(0.0, 2.0, 20)\n",
    "y = x**2.0\n",
    "\n",
    "ax4.set_xscale(\"log\", nonpositive='clip')\n",
    "ax4.set_yscale(\"log\", nonpositive='clip')\n",
    "ax4.set(title='Errorbars go negative')\n",
    "ax4.errorbar(x, y, xerr=0.1 * x, yerr=5.0 + 0.75 * y)\n",
    "# ylim must be set after errorbar to allow errorbar to autoscale limits\n",
    "ax4.set_ylim(bottom=0.1)\n",
    "\n",
    "fig.tight_layout()\n",
    "plt.show()"
   ]
  },
  {
   "cell_type": "code",
   "execution_count": null,
   "metadata": {},
   "outputs": [],
   "source": []
  }
 ],
 "metadata": {
  "kernelspec": {
   "display_name": "Python 3.7.5 64-bit ('gridworld': conda)",
   "language": "python",
   "name": "python37564bitgridworldcondaa470b01e75544e91a588ed5e9d97392f"
  },
  "language_info": {
   "codemirror_mode": {
    "name": "ipython",
    "version": 3
   },
   "file_extension": ".py",
   "mimetype": "text/x-python",
   "name": "python",
   "nbconvert_exporter": "python",
   "pygments_lexer": "ipython3",
   "version": "3.7.5"
  }
 },
 "nbformat": 4,
 "nbformat_minor": 2
}
